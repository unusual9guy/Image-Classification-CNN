{
  "nbformat": 4,
  "nbformat_minor": 0,
  "metadata": {
    "colab": {
      "provenance": [],
      "toc_visible": true,
      "gpuType": "T4"
    },
    "kernelspec": {
      "name": "python3",
      "display_name": "Python 3"
    },
    "language_info": {
      "name": "python"
    },
    "accelerator": "GPU"
  },
  "cells": [
    {
      "cell_type": "markdown",
      "source": [
        "# CIFAR-10 Classification Experiments\n",
        "\n",
        "## Dataset\n",
        "- Using CIFAR-10 dataset\n",
        "- Images normalized to [0,1] range\n",
        "- Training data split into training (80%) and validation (20%) sets\n",
        "\n",
        "## Common Implementation Details\n",
        "- Batch size: 32\n",
        "- Maximum epochs: 100\n",
        "- Early stopping with patience of 15 epochs\n",
        "- L2 regularization values tested: [1e-3, 1e-4, 1e-5, 1e-6]\n",
        "- Data augmentation techniques:\n",
        "  - Rotation (up to 20 degrees)\n",
        "  - Width/height shifts (20%)\n",
        "  - Shear transformation\n",
        "  - Zoom\n",
        "  - Horizontal flips\n",
        "\n",
        "## Experiment Overview\n",
        "Testing three different CNN model architectures, each progressively more complex than the previous one. For each model, we:\n",
        "1. Test different L2 regularization values\n",
        "2. Monitor validation accuracy\n",
        "3. Use early stopping to prevent overfitting\n",
        "4. Apply consistent data augmentation\n",
        "5. Use learning rate scheduling\n",
        "\n",
        "## Experimental Goals\n",
        "1. Find optimal regularization strength for each model\n",
        "2. Compare performance between different model complexities\n",
        "3. Evaluate impact of regularization on model stability\n",
        "4. Assess training time vs. performance tradeoffs"
      ],
      "metadata": {
        "id": "OYqRoF4vbu-r"
      }
    },
    {
      "cell_type": "markdown",
      "source": [
        "####Importing the neccessary libraries"
      ],
      "metadata": {
        "id": "-B9bW4GdcXHe"
      }
    },
    {
      "cell_type": "code",
      "source": [
        "import numpy as np\n",
        "import matplotlib.pyplot as plt\n",
        "import tensorflow as tf\n",
        "from google.colab import files\n",
        "from tensorflow.keras import datasets, layers, models\n",
        "from tensorflow.keras.layers import Dropout\n",
        "from tensorflow.keras.optimizers import Adam, RMSprop, Adadelta\n",
        "from tensorflow.keras.callbacks import EarlyStopping\n",
        "from tensorflow.keras.preprocessing.image import ImageDataGenerator\n",
        "from tensorflow.keras import regularizers\n",
        "from sklearn.metrics import confusion_matrix, classification_report\n",
        "from sklearn.model_selection import train_test_split, GridSearchCV\n",
        "from sklearn.linear_model import LogisticRegression\n",
        "import imgaug as ia\n",
        "import imgaug.augmenters as iaa"
      ],
      "metadata": {
        "id": "s__IlI3ybvFn"
      },
      "execution_count": null,
      "outputs": []
    },
    {
      "cell_type": "markdown",
      "source": [
        "The following code sets random seeds for reproducibility:\n",
        "\n",
        "- `np.random.seed(42)`: Sets the seed for NumPy's random number generator to ensure consistent results across runs.\n",
        "- `tf.random.set_seed(42)`: Sets the seed for TensorFlow's random number generator to ensure consistent initialization of variables and operations.\n",
        "\n",
        "By fixing the seed, the results of experiments can be reproduced even after restarting or re-running the code.\n"
      ],
      "metadata": {
        "id": "TusyhvqQuAt1"
      }
    },
    {
      "cell_type": "code",
      "source": [
        "# Seed for NumPy\n",
        "np.random.seed(42)\n",
        "\n",
        "# Seed for TensorFlow\n",
        "tf.random.set_seed(42)"
      ],
      "metadata": {
        "id": "NetJ6Fza7nvf"
      },
      "execution_count": null,
      "outputs": []
    },
    {
      "cell_type": "markdown",
      "source": [
        "####Loading the cifar10 dataset from Keras"
      ],
      "metadata": {
        "id": "WzR8wNNGbvNk"
      }
    },
    {
      "cell_type": "code",
      "source": [
        "# Loading the data\n",
        "(X_train, Y_train), (X_test, Y_test) = datasets.cifar10.load_data()\n",
        "\n",
        "# Normalizing the data\n",
        "X_train = X_train.astype('float32') / 255\n",
        "X_test = X_test.astype('float32') / 255\n",
        "\n",
        "print('Features -------------> Normalized.')\n",
        "\n",
        "# Flattening the labels\n",
        "Y_train = Y_train.reshape(-1)\n",
        "Y_test = Y_test.reshape(-1)\n",
        "\n",
        "print('Labels -------------> Reshaped.')\n",
        "\n",
        "# Splitting training data into training and validation sets\n",
        "val_split = 0.2\n",
        "val_samples = int(len(X_train) * val_split)\n",
        "\n",
        "\n",
        "\n",
        "# Shuffling the training data\n",
        "indices = np.random.permutation(len(X_train))\n",
        "X_train_shuffled = X_train[indices]\n",
        "Y_train_shuffled = Y_train[indices]\n",
        "\n",
        "# Splitting into training and validation\n",
        "X_val = X_train_shuffled[:val_samples]\n",
        "Y_val = Y_train_shuffled[:val_samples]\n",
        "X_train = X_train_shuffled[val_samples:]\n",
        "Y_train = Y_train_shuffled[val_samples:]\n",
        "print('Data Split into training and validation -------------> Done')"
      ],
      "metadata": {
        "id": "ucmJEL-NYg12",
        "colab": {
          "base_uri": "https://localhost:8080/"
        },
        "outputId": "94874426-e286-4f95-f396-64d484598000"
      },
      "execution_count": null,
      "outputs": [
        {
          "output_type": "stream",
          "name": "stdout",
          "text": [
            "Downloading data from https://www.cs.toronto.edu/~kriz/cifar-10-python.tar.gz\n",
            "\u001b[1m170498071/170498071\u001b[0m \u001b[32m━━━━━━━━━━━━━━━━━━━━\u001b[0m\u001b[37m\u001b[0m \u001b[1m3s\u001b[0m 0us/step\n",
            "Features -------------> Normalized.\n",
            "Labels -------------> Reshaped.\n",
            "Data Split into training and validation -------------> Done\n"
          ]
        }
      ]
    },
    {
      "cell_type": "code",
      "source": [
        "X_train.shape"
      ],
      "metadata": {
        "colab": {
          "base_uri": "https://localhost:8080/"
        },
        "id": "ObWCWpmjhLnw",
        "outputId": "dd350bd8-abce-49ff-c87f-869cf813a3e7"
      },
      "execution_count": null,
      "outputs": [
        {
          "output_type": "execute_result",
          "data": {
            "text/plain": [
              "(40000, 32, 32, 3)"
            ]
          },
          "metadata": {},
          "execution_count": 5
        }
      ]
    },
    {
      "cell_type": "code",
      "source": [
        "X_val.shape"
      ],
      "metadata": {
        "colab": {
          "base_uri": "https://localhost:8080/"
        },
        "id": "aD004kCXV6ik",
        "outputId": "fef81dc4-9196-4237-b4be-d77ef6716200"
      },
      "execution_count": null,
      "outputs": [
        {
          "output_type": "execute_result",
          "data": {
            "text/plain": [
              "(10000, 32, 32, 3)"
            ]
          },
          "metadata": {},
          "execution_count": 6
        }
      ]
    },
    {
      "cell_type": "markdown",
      "source": [
        "Defining names of the 10 classes in cifar-10"
      ],
      "metadata": {
        "id": "DspM50n4DkZw"
      }
    },
    {
      "cell_type": "code",
      "source": [
        "classes = [\"airplane\" , \"automobile\" , \"bird\" , \"cat\" , \"deer\", \"dog\" , \"frog\", \" horse\" , \"ship\" , \"truck\"]"
      ],
      "metadata": {
        "id": "8NQKoZDWBONr"
      },
      "execution_count": null,
      "outputs": []
    },
    {
      "cell_type": "code",
      "source": [
        "classes[9]"
      ],
      "metadata": {
        "colab": {
          "base_uri": "https://localhost:8080/",
          "height": 36
        },
        "id": "xlqq7jZzBkIc",
        "outputId": "b633d6d7-70ef-4a75-cce0-d68ea37002ef"
      },
      "execution_count": null,
      "outputs": [
        {
          "output_type": "execute_result",
          "data": {
            "text/plain": [
              "'truck'"
            ],
            "application/vnd.google.colaboratory.intrinsic+json": {
              "type": "string"
            }
          },
          "metadata": {},
          "execution_count": 6
        }
      ]
    },
    {
      "cell_type": "code",
      "source": [
        "Y_train[:5]"
      ],
      "metadata": {
        "colab": {
          "base_uri": "https://localhost:8080/"
        },
        "id": "CvGgPCC39I1n",
        "outputId": "90df6f6e-93eb-4230-99fd-aa12a87b1bb9"
      },
      "execution_count": null,
      "outputs": [
        {
          "output_type": "execute_result",
          "data": {
            "text/plain": [
              "array([3, 8, 6, 1, 3], dtype=uint8)"
            ]
          },
          "metadata": {},
          "execution_count": 7
        }
      ]
    },
    {
      "cell_type": "markdown",
      "source": [
        "## Training parameters"
      ],
      "metadata": {
        "id": "zKXLb8zM_vDs"
      }
    },
    {
      "cell_type": "code",
      "source": [
        "BATCH_SIZE = 32\n",
        "N_EPOCH = 100\n",
        "N_CLASSES = 10\n",
        "VERBOSE = 1\n",
        "VALIDATION_SPLIT = 0.2\n",
        "OPTIM =  Adam() # RMSprop()\n",
        "INPUT_SHAPE = (32, 32, 3)\n",
        "l2_values=[1e-3, 1e-4, 1e-5, 1e-6]\n",
        "\n",
        "print('Initialised -------------> Main parameters.')"
      ],
      "metadata": {
        "colab": {
          "base_uri": "https://localhost:8080/"
        },
        "id": "CLrPeEz3_vJI",
        "outputId": "7646a4e5-216d-4a60-d193-e8c3c54bbe46"
      },
      "execution_count": null,
      "outputs": [
        {
          "output_type": "stream",
          "name": "stdout",
          "text": [
            "Initialised -------------> Main parameters.\n"
          ]
        }
      ]
    },
    {
      "cell_type": "markdown",
      "source": [
        "## Defining a function for early stopping"
      ],
      "metadata": {
        "id": "cVr4LhTcBpSF"
      }
    },
    {
      "cell_type": "code",
      "source": [
        "early_stopping = EarlyStopping(\n",
        "    monitor='val_accuracy',\n",
        "    patience= 15,\n",
        "    restore_best_weights=True\n",
        ")"
      ],
      "metadata": {
        "id": "AXc3RkBlBpZc"
      },
      "execution_count": null,
      "outputs": []
    },
    {
      "cell_type": "markdown",
      "source": [
        "## Data Augmentation\n",
        "\n",
        "Data augmentation is employed to artificially increase the size of the training dataset and improve the model's generalization ability. The following techniques are used:\n",
        "\n",
        "* `rotation_range=15`: Randomly rotate images by up to 15 degrees.\n",
        "* `width_shift_range=0.1`: Randomly shift images horizontally by up to 10% of the width.\n",
        "* `height_shift_range=0.1`: Randomly shift images vertically by up to 10% of the height.\n",
        "* `horizontal_flip=True`: Randomly flip images horizontally."
      ],
      "metadata": {
        "id": "DXoqSB-1acCq"
      }
    },
    {
      "cell_type": "code",
      "source": [
        "datagen = ImageDataGenerator(\n",
        "    rotation_range=20,\n",
        "    width_shift_range=0.2,\n",
        "    height_shift_range=0.2,\n",
        "    shear_range=0.2,\n",
        "    zoom_range=0.2,\n",
        "    horizontal_flip=True,\n",
        "    fill_mode='nearest'\n",
        ")\n",
        "datagen.fit(X_train)\n"
      ],
      "metadata": {
        "id": "lWPF1TT1ae_T"
      },
      "execution_count": null,
      "outputs": []
    },
    {
      "cell_type": "markdown",
      "source": [
        "Instead of using data augmentation the fly, we are using static data augmentation for **speeding up the training process**. In this case, the following augmentations are used:\n",
        "\n",
        "* **`iaa.Fliplr(0.5)`:** Randomly flips images horizontally with a 50% probability. This helps the model learn features that are invariant to left-right orientation.\n",
        "* **`iaa.Crop(percent=(0, 0.1))`:**  Randomly crops images by up to 10%. This forces the model to learn features from different parts of the image and reduces the reliance on specific regions.\n",
        "* **`iaa.Affine(rotate=(-15, 15))`:** Randomly rotates images between -15 and 15 degrees. This helps the model become invariant to slight rotations in the input data.\n",
        "* **`iaa.Affine(translate_percent={\"x\": (-0.1, 0.1), \"y\": (-0.1, 0.1)})`:** Randomly translates images horizontally and vertically by up to 10% of the image width and height, respectively. This helps the model learn features that are robust to changes in object position.\n",
        "\n",
        "These augmentations are applied sequentially to the training, test, and validation sets (`X_train`, `X_test`, `X_val`) using the `iaa.Sequential` object. This ensures that the model is trained and evaluated on a diverse set of images, leading to improved performance and generalization."
      ],
      "metadata": {
        "id": "zD4DDx2PSdcm"
      }
    },
    {
      "cell_type": "code",
      "source": [
        "seq = iaa.Sequential([\n",
        "    # Horizontal flips\n",
        "    iaa.Fliplr(0.5),\n",
        "    # Random crops\n",
        "    iaa.Crop(percent=(0, 0.1)),\n",
        "    # Rotations\n",
        "    iaa.Affine(rotate=(-15, 15)),\n",
        "    # Translations\n",
        "    iaa.Affine(translate_percent={\"x\": (-0.1, 0.1), \"y\": (-0.1, 0.1)})\n",
        "])\n",
        "\n",
        "# Applying the augmentations\n",
        "X_train_aug = seq(images=X_train)\n",
        "X_test_aug = seq(images=X_test)\n",
        "X_val_aug = seq(images=X_val)"
      ],
      "metadata": {
        "id": "68TDWjYwSdg8"
      },
      "execution_count": null,
      "outputs": []
    },
    {
      "cell_type": "markdown",
      "source": [
        "# Running experiments to figure out the best values for hyper-parameters for Model-1"
      ],
      "metadata": {
        "id": "jxc-B2g0D1-i"
      }
    },
    {
      "cell_type": "markdown",
      "source": [
        "# CNN Model 1: Archtecture\n",
        "\n",
        "This document outlines the architecture and implementation details of our enhanced baseline Convolutional Neural Network (CNN) model for image classification. This model builds upon the initial baseline model by incorporating additional convolutional layers and batch normalization for improved performance.\n",
        "\n",
        "## Model Architecture\n",
        "\n",
        "The model consists of the following layers:\n",
        "\n",
        "* **Convolutional Layers:**\n",
        "    * Three convolutional blocks with increasing filter counts (32, 64, 128). Each block includes:\n",
        "        * Two `Conv2D` layers with `relu` activation function.\n",
        "        * `kernel_size` of (3, 3) for all convolutional layers.\n",
        "        * `padding='same'` to preserve spatial dimensions.\n",
        "        * `BatchNormalization` to normalize activations and speed up training.\n",
        "        * `l2` kernel regularization applied to the convolutional layers to prevent overfitting.\n",
        "    * `MaxPooling2D` layers with a pool size of (2, 2) for downsampling.\n",
        "    * `Dropout` layers with a rate of 0.25 to prevent overfitting.\n",
        "\n",
        "* **Global Average Pooling:**\n",
        "    * `GlobalAveragePooling2D` layer to reduce dimensionality and improve generalization.\n",
        "\n",
        "* **Dense Layers:**\n",
        "    * `Flatten` layer to convert feature maps to a 1D vector.\n",
        "    * `Dense` layer with 512 neurons and `relu` activation.\n",
        "    * `BatchNormalization` to normalize activations.\n",
        "    * `Dropout` layer with a rate of 0.5 to prevent overfitting.\n",
        "    * Output `Dense` layer with `N_CLASSES` neurons and `softmax` activation for probability distribution over classes.\n",
        "\n",
        "\n",
        "## Model Compilation and Training\n",
        "\n",
        "* **Optimizer:** `Adam` optimizer with a learning rate of 0.0001.\n",
        "* **Loss Function:** `sparse_categorical_crossentropy`.\n",
        "* **Metrics:** `accuracy`.\n",
        "* **Data Augmentation:** The model is trained using augmented data from `ImageDataGenerator` with on-the-fly augmentations. This helps increase the diversity of the training data and improve the model's generalization ability.\n",
        "* **Training Process:** The model is trained in two phases:\n",
        "    * **Phase 1:**  Trained with data augmentation on the flow.\n",
        "    * **Phase 2:** Trained with static data augmentation to potentially increase the training speed."
      ],
      "metadata": {
        "id": "EgEHtlZ4Zzl2"
      }
    },
    {
      "cell_type": "markdown",
      "source": [
        "### Function to create models with given parameters"
      ],
      "metadata": {
        "id": "UiajVzU6D_eg"
      }
    },
    {
      "cell_type": "code",
      "source": [
        "def create_model_with_l2(input_shape, num_classes, l2_value):\n",
        "\n",
        "    model = models.Sequential([\n",
        "        # First Convolutional Block\n",
        "        layers.Conv2D(filters=32, kernel_size=(3, 3), padding='same', input_shape=input_shape, kernel_regularizer=regularizers.l2(l2_value)),\n",
        "        layers.BatchNormalization(),\n",
        "        layers.Activation('relu'),\n",
        "        layers.Conv2D(filters=32, kernel_size=(3, 3), padding='same', kernel_regularizer=regularizers.l2(l2_value)),\n",
        "        layers.BatchNormalization(),\n",
        "        layers.Activation('relu'),\n",
        "        layers.MaxPooling2D((2, 2)),\n",
        "        layers.Dropout(0.25),\n",
        "\n",
        "        # Second Convolutional Block\n",
        "        layers.Conv2D(filters=64, kernel_size=(3, 3), padding='same', kernel_regularizer=regularizers.l2(l2_value)),\n",
        "        layers.BatchNormalization(),\n",
        "        layers.Activation('relu'),\n",
        "        layers.Conv2D(filters=64, kernel_size=(3, 3), padding='same', kernel_regularizer=regularizers.l2(l2_value)),\n",
        "        layers.BatchNormalization(),\n",
        "        layers.Activation('relu'),\n",
        "        layers.MaxPooling2D((2, 2)),\n",
        "        layers.Dropout(0.35),\n",
        "\n",
        "        # Third Convolutional Block\n",
        "        layers.Conv2D(filters = 128, kernel_size = (3, 3), activation='relu', padding='same', kernel_regularizer=regularizers.l2(l2_value)),\n",
        "        layers.BatchNormalization(),\n",
        "        layers.Conv2D(filters = 128, kernel_size = (3, 3), activation='relu', padding='same', kernel_regularizer=regularizers.l2(l2_value)),\n",
        "        layers.BatchNormalization(),\n",
        "        layers.MaxPooling2D((2, 2)),\n",
        "        layers.Dropout(0.4),\n",
        "\n",
        "        # Fullly connected layers for classification\n",
        "        layers.Flatten(),\n",
        "        layers.Dense(512, activation='relu',kernel_regularizer=regularizers.l2(l2_value)),\n",
        "        layers.BatchNormalization(),\n",
        "        layers.Dropout(0.35),\n",
        "        layers.Dense(num_classes, activation='softmax')\n",
        "    ])\n",
        "\n",
        "    model.compile(\n",
        "        optimizer=tf.keras.optimizers.Adam(0.001),\n",
        "        loss='sparse_categorical_crossentropy',\n",
        "        metrics=['accuracy']\n",
        "    )\n",
        "\n",
        "    return model"
      ],
      "metadata": {
        "id": "oOqbPzg9D82I"
      },
      "execution_count": null,
      "outputs": []
    },
    {
      "cell_type": "markdown",
      "source": [
        "### Function to train the model with different hyper-parameter values"
      ],
      "metadata": {
        "id": "CVZ1JaHyF5gx"
      }
    },
    {
      "cell_type": "code",
      "source": [
        "def train_model_with_l2(model, X_train, Y_train, X_val, Y_val, epochs=50, batch_size=32):\n",
        "\n",
        "    # Learning rate schedule for the optimizer\n",
        "    def lr_schedule(epoch):\n",
        "        initial_lr = 0.001\n",
        "        drop = 0.5\n",
        "        epochs_drop = 10.0\n",
        "        lr = initial_lr * np.power(drop, np.floor((1+epoch)/epochs_drop))\n",
        "        return lr\n",
        "\n",
        "    # Training the model\n",
        "    history = model.fit(X_train, Y_train, batch_size=batch_size,\n",
        "                        epochs=epochs,\n",
        "                        validation_data=(X_val, Y_val),\n",
        "                        callbacks=[early_stopping,tf.keras.callbacks.LearningRateScheduler(lr_schedule)],\n",
        "                        verbose=1\n",
        "    )\n",
        "\n",
        "    return model, history"
      ],
      "metadata": {
        "id": "H1HA9WxCF5oI"
      },
      "execution_count": null,
      "outputs": []
    },
    {
      "cell_type": "markdown",
      "source": [
        "### Function for Results Visualization"
      ],
      "metadata": {
        "id": "vqhC75q3GSbo"
      }
    },
    {
      "cell_type": "code",
      "source": [
        "def plot_l2_results(results):\n",
        "\n",
        "    plt.figure(figsize=(12, 5))\n",
        "\n",
        "    # Comparing the Validation Accuracy\n",
        "    plt.subplot(1, 2, 1)\n",
        "    plt.title('Validation Accuracy for Different L2 Values')\n",
        "    plt.bar(\n",
        "        [str(l2) for l2 in results.keys()],\n",
        "        [results[l2]['val_accuracy'] for l2 in results.keys()]\n",
        "    )\n",
        "    plt.ylabel('Validation Accuracy')\n",
        "    plt.xlabel('L2 Regularization Value')\n",
        "    plt.xticks(rotation=45)\n",
        "\n",
        "    # Finding the best L2 value\n",
        "    best_l2 = max(results, key=lambda k: results[k]['val_accuracy'])\n",
        "    best_result = results[best_l2]\n",
        "\n",
        "    # Training History for Best Model\n",
        "    plt.subplot(1, 2, 2)\n",
        "    plt.title(f'Training History (Best L2: {best_l2})')\n",
        "    plt.plot(best_result['history'].history['accuracy'], label='Training Accuracy')\n",
        "    plt.plot(best_result['history'].history['val_accuracy'], label='Validation Accuracy')\n",
        "    plt.xlabel('Epoch')\n",
        "    plt.ylabel('Accuracy')\n",
        "    plt.legend()\n",
        "\n",
        "    plt.tight_layout()\n",
        "    plt.show()\n",
        "\n",
        "    print(f\"Best L2 Value: {best_l2}\")\n",
        "    print(f\"Best Validation Accuracy: {best_result['val_accuracy']:.4f}\")"
      ],
      "metadata": {
        "id": "Y0brmkeBGSjd"
      },
      "execution_count": null,
      "outputs": []
    },
    {
      "cell_type": "markdown",
      "source": [
        "### Function for storing the results of each model  "
      ],
      "metadata": {
        "id": "rf-sliqeGahl"
      }
    },
    {
      "cell_type": "code",
      "source": [
        "def tune_l2_regularization(X_train, Y_train, X_val, Y_val, input_shape, num_classes, l2_values):\n",
        "    \"\"\"\n",
        "    Tune L2 regularization hyperparameter\n",
        "\n",
        "    Parameters:\n",
        "    - X_train, Y_train: Training data and labels\n",
        "    - X_val, Y_val: Validation data and labels\n",
        "    - input_shape: Shape of input images\n",
        "    - num_classes: Number of classification classes\n",
        "    - l2_values: List of L2 regularization values to try\n",
        "    Returns:\n",
        "    - Dictionary of results for different L2 values\n",
        "    \"\"\"\n",
        "    # Dictionary for storing the results\n",
        "    results = {}\n",
        "\n",
        "    # Try each L2 value\n",
        "    for l2_value in l2_values:\n",
        "        # Clearing the previous model and session to prevent any memory erros\n",
        "        tf.keras.backend.clear_session()\n",
        "        print(f'For model with l2 value -----> ',l2_value)\n",
        "        # Creating the model\n",
        "        model = create_model_with_l2(input_shape, num_classes, l2_value)\n",
        "\n",
        "        # Training the model\n",
        "        trained_model, history = train_model_with_l2(model, X_train, Y_train, X_val, Y_val)\n",
        "\n",
        "        # Evaluate the model\n",
        "        val_loss, val_accuracy = trained_model.evaluate(X_val, Y_val, verbose=0)\n",
        "\n",
        "        # Store the results\n",
        "        results[l2_value] = {\n",
        "            'model': trained_model,\n",
        "            'val_accuracy': val_accuracy,\n",
        "            'val_loss': val_loss,\n",
        "            'history': history\n",
        "        }\n",
        "\n",
        "    # Visualizing the results\n",
        "    plot_l2_results(results)\n",
        "\n",
        "    return results"
      ],
      "metadata": {
        "id": "P-gQAb1HGasQ"
      },
      "execution_count": null,
      "outputs": []
    },
    {
      "cell_type": "markdown",
      "source": [
        "## Running the test"
      ],
      "metadata": {
        "id": "wYcIttv2JRDC"
      }
    },
    {
      "cell_type": "code",
      "source": [
        "%%time\n",
        "\n",
        "# Runing the L2 regularization tuning\n",
        "results = tune_l2_regularization(\n",
        "    X_train_aug, Y_train,\n",
        "    X_val_aug, Y_val,\n",
        "    input_shape=INPUT_SHAPE,\n",
        "    num_classes=N_CLASSES,\n",
        "    l2_values=l2_values\n",
        ")\n",
        "\n",
        "# Finding the L2 value with the highest validation accuracy\n",
        "best_l2 = max(results, key=lambda k: results[k]['val_accuracy'])\n",
        "best_model = results[best_l2]['model']\n",
        "\n",
        "# Using the best model for evaluation\n",
        "test_loss, test_accuracy = best_model.evaluate(X_test, Y_test)\n",
        "print(f\"Best L2 Value: {best_l2}\")\n",
        "print(f\"Test Accuracy: {test_accuracy}\")"
      ],
      "metadata": {
        "colab": {
          "base_uri": "https://localhost:8080/",
          "height": 1000
        },
        "id": "f1OgD_4-JRL2",
        "outputId": "b70020a4-6cdd-45c7-aa59-b330ddc3bb36"
      },
      "execution_count": null,
      "outputs": [
        {
          "output_type": "stream",
          "name": "stdout",
          "text": [
            "For model with l2 value ----->  0.001\n"
          ]
        },
        {
          "output_type": "stream",
          "name": "stderr",
          "text": [
            "/usr/local/lib/python3.10/dist-packages/keras/src/layers/convolutional/base_conv.py:107: UserWarning: Do not pass an `input_shape`/`input_dim` argument to a layer. When using Sequential models, prefer using an `Input(shape)` object as the first layer in the model instead.\n",
            "  super().__init__(activity_regularizer=activity_regularizer, **kwargs)\n"
          ]
        },
        {
          "output_type": "stream",
          "name": "stdout",
          "text": [
            "Epoch 1/50\n",
            "\u001b[1m1250/1250\u001b[0m \u001b[32m━━━━━━━━━━━━━━━━━━━━\u001b[0m\u001b[37m\u001b[0m \u001b[1m23s\u001b[0m 8ms/step - accuracy: 0.2834 - loss: 3.4005 - val_accuracy: 0.3953 - val_loss: 2.4714 - learning_rate: 0.0010\n",
            "Epoch 2/50\n",
            "\u001b[1m1250/1250\u001b[0m \u001b[32m━━━━━━━━━━━━━━━━━━━━\u001b[0m\u001b[37m\u001b[0m \u001b[1m10s\u001b[0m 7ms/step - accuracy: 0.4359 - loss: 2.2793 - val_accuracy: 0.4803 - val_loss: 1.9909 - learning_rate: 0.0010\n",
            "Epoch 3/50\n",
            "\u001b[1m1250/1250\u001b[0m \u001b[32m━━━━━━━━━━━━━━━━━━━━\u001b[0m\u001b[37m\u001b[0m \u001b[1m10s\u001b[0m 7ms/step - accuracy: 0.5028 - loss: 1.9351 - val_accuracy: 0.5023 - val_loss: 1.9451 - learning_rate: 0.0010\n",
            "Epoch 4/50\n",
            "\u001b[1m1250/1250\u001b[0m \u001b[32m━━━━━━━━━━━━━━━━━━━━\u001b[0m\u001b[37m\u001b[0m \u001b[1m9s\u001b[0m 6ms/step - accuracy: 0.5371 - loss: 1.8191 - val_accuracy: 0.4926 - val_loss: 1.9570 - learning_rate: 0.0010\n",
            "Epoch 5/50\n",
            "\u001b[1m1250/1250\u001b[0m \u001b[32m━━━━━━━━━━━━━━━━━━━━\u001b[0m\u001b[37m\u001b[0m \u001b[1m8s\u001b[0m 6ms/step - accuracy: 0.5646 - loss: 1.7823 - val_accuracy: 0.5482 - val_loss: 1.8676 - learning_rate: 0.0010\n",
            "Epoch 6/50\n",
            "\u001b[1m1250/1250\u001b[0m \u001b[32m━━━━━━━━━━━━━━━━━━━━\u001b[0m\u001b[37m\u001b[0m \u001b[1m11s\u001b[0m 7ms/step - accuracy: 0.5867 - loss: 1.7252 - val_accuracy: 0.6185 - val_loss: 1.6677 - learning_rate: 0.0010\n",
            "Epoch 7/50\n",
            "\u001b[1m1250/1250\u001b[0m \u001b[32m━━━━━━━━━━━━━━━━━━━━\u001b[0m\u001b[37m\u001b[0m \u001b[1m10s\u001b[0m 7ms/step - accuracy: 0.6095 - loss: 1.6785 - val_accuracy: 0.5748 - val_loss: 1.8193 - learning_rate: 0.0010\n",
            "Epoch 8/50\n",
            "\u001b[1m1250/1250\u001b[0m \u001b[32m━━━━━━━━━━━━━━━━━━━━\u001b[0m\u001b[37m\u001b[0m \u001b[1m8s\u001b[0m 6ms/step - accuracy: 0.6261 - loss: 1.6436 - val_accuracy: 0.5858 - val_loss: 1.7167 - learning_rate: 0.0010\n",
            "Epoch 9/50\n",
            "\u001b[1m1250/1250\u001b[0m \u001b[32m━━━━━━━━━━━━━━━━━━━━\u001b[0m\u001b[37m\u001b[0m \u001b[1m10s\u001b[0m 6ms/step - accuracy: 0.6418 - loss: 1.6015 - val_accuracy: 0.5740 - val_loss: 1.8235 - learning_rate: 0.0010\n",
            "Epoch 10/50\n",
            "\u001b[1m1250/1250\u001b[0m \u001b[32m━━━━━━━━━━━━━━━━━━━━\u001b[0m\u001b[37m\u001b[0m \u001b[1m7s\u001b[0m 6ms/step - accuracy: 0.6755 - loss: 1.4352 - val_accuracy: 0.6649 - val_loss: 1.3676 - learning_rate: 5.0000e-04\n",
            "Epoch 11/50\n",
            "\u001b[1m1250/1250\u001b[0m \u001b[32m━━━━━━━━━━━━━━━━━━━━\u001b[0m\u001b[37m\u001b[0m \u001b[1m10s\u001b[0m 6ms/step - accuracy: 0.7029 - loss: 1.2959 - val_accuracy: 0.6902 - val_loss: 1.3225 - learning_rate: 5.0000e-04\n",
            "Epoch 12/50\n",
            "\u001b[1m1250/1250\u001b[0m \u001b[32m━━━━━━━━━━━━━━━━━━━━\u001b[0m\u001b[37m\u001b[0m \u001b[1m8s\u001b[0m 6ms/step - accuracy: 0.7085 - loss: 1.2612 - val_accuracy: 0.6793 - val_loss: 1.3453 - learning_rate: 5.0000e-04\n",
            "Epoch 13/50\n",
            "\u001b[1m1250/1250\u001b[0m \u001b[32m━━━━━━━━━━━━━━━━━━━━\u001b[0m\u001b[37m\u001b[0m \u001b[1m8s\u001b[0m 6ms/step - accuracy: 0.7166 - loss: 1.2361 - val_accuracy: 0.7093 - val_loss: 1.2579 - learning_rate: 5.0000e-04\n",
            "Epoch 14/50\n",
            "\u001b[1m1250/1250\u001b[0m \u001b[32m━━━━━━━━━━━━━━━━━━━━\u001b[0m\u001b[37m\u001b[0m \u001b[1m7s\u001b[0m 6ms/step - accuracy: 0.7212 - loss: 1.2138 - val_accuracy: 0.6764 - val_loss: 1.3745 - learning_rate: 5.0000e-04\n",
            "Epoch 15/50\n",
            "\u001b[1m1250/1250\u001b[0m \u001b[32m━━━━━━━━━━━━━━━━━━━━\u001b[0m\u001b[37m\u001b[0m \u001b[1m11s\u001b[0m 6ms/step - accuracy: 0.7260 - loss: 1.2048 - val_accuracy: 0.7120 - val_loss: 1.2487 - learning_rate: 5.0000e-04\n",
            "Epoch 16/50\n",
            "\u001b[1m1250/1250\u001b[0m \u001b[32m━━━━━━━━━━━━━━━━━━━━\u001b[0m\u001b[37m\u001b[0m \u001b[1m8s\u001b[0m 6ms/step - accuracy: 0.7326 - loss: 1.1914 - val_accuracy: 0.7393 - val_loss: 1.1733 - learning_rate: 5.0000e-04\n",
            "Epoch 17/50\n",
            "\u001b[1m1250/1250\u001b[0m \u001b[32m━━━━━━━━━━━━━━━━━━━━\u001b[0m\u001b[37m\u001b[0m \u001b[1m7s\u001b[0m 6ms/step - accuracy: 0.7348 - loss: 1.1864 - val_accuracy: 0.6575 - val_loss: 1.4357 - learning_rate: 5.0000e-04\n",
            "Epoch 18/50\n",
            "\u001b[1m1250/1250\u001b[0m \u001b[32m━━━━━━━━━━━━━━━━━━━━\u001b[0m\u001b[37m\u001b[0m \u001b[1m8s\u001b[0m 6ms/step - accuracy: 0.7376 - loss: 1.1825 - val_accuracy: 0.7274 - val_loss: 1.2134 - learning_rate: 5.0000e-04\n",
            "Epoch 19/50\n",
            "\u001b[1m1250/1250\u001b[0m \u001b[32m━━━━━━━━━━━━━━━━━━━━\u001b[0m\u001b[37m\u001b[0m \u001b[1m8s\u001b[0m 6ms/step - accuracy: 0.7459 - loss: 1.1654 - val_accuracy: 0.7279 - val_loss: 1.2235 - learning_rate: 5.0000e-04\n",
            "Epoch 20/50\n",
            "\u001b[1m1250/1250\u001b[0m \u001b[32m━━━━━━━━━━━━━━━━━━━━\u001b[0m\u001b[37m\u001b[0m \u001b[1m8s\u001b[0m 6ms/step - accuracy: 0.7639 - loss: 1.0880 - val_accuracy: 0.7578 - val_loss: 1.0751 - learning_rate: 2.5000e-04\n",
            "Epoch 21/50\n",
            "\u001b[1m1250/1250\u001b[0m \u001b[32m━━━━━━━━━━━━━━━━━━━━\u001b[0m\u001b[37m\u001b[0m \u001b[1m7s\u001b[0m 6ms/step - accuracy: 0.7835 - loss: 0.9897 - val_accuracy: 0.7268 - val_loss: 1.1538 - learning_rate: 2.5000e-04\n",
            "Epoch 22/50\n",
            "\u001b[1m1250/1250\u001b[0m \u001b[32m━━━━━━━━━━━━━━━━━━━━\u001b[0m\u001b[37m\u001b[0m \u001b[1m8s\u001b[0m 6ms/step - accuracy: 0.7849 - loss: 0.9601 - val_accuracy: 0.7300 - val_loss: 1.1343 - learning_rate: 2.5000e-04\n",
            "Epoch 23/50\n",
            "\u001b[1m1250/1250\u001b[0m \u001b[32m━━━━━━━━━━━━━━━━━━━━\u001b[0m\u001b[37m\u001b[0m \u001b[1m10s\u001b[0m 6ms/step - accuracy: 0.7953 - loss: 0.9318 - val_accuracy: 0.7582 - val_loss: 1.0563 - learning_rate: 2.5000e-04\n",
            "Epoch 24/50\n",
            "\u001b[1m1250/1250\u001b[0m \u001b[32m━━━━━━━━━━━━━━━━━━━━\u001b[0m\u001b[37m\u001b[0m \u001b[1m10s\u001b[0m 6ms/step - accuracy: 0.7961 - loss: 0.9186 - val_accuracy: 0.7501 - val_loss: 1.0647 - learning_rate: 2.5000e-04\n",
            "Epoch 25/50\n",
            "\u001b[1m1250/1250\u001b[0m \u001b[32m━━━━━━━━━━━━━━━━━━━━\u001b[0m\u001b[37m\u001b[0m \u001b[1m10s\u001b[0m 6ms/step - accuracy: 0.8003 - loss: 0.9080 - val_accuracy: 0.7439 - val_loss: 1.0995 - learning_rate: 2.5000e-04\n",
            "Epoch 26/50\n",
            "\u001b[1m1250/1250\u001b[0m \u001b[32m━━━━━━━━━━━━━━━━━━━━\u001b[0m\u001b[37m\u001b[0m \u001b[1m8s\u001b[0m 6ms/step - accuracy: 0.7988 - loss: 0.9060 - val_accuracy: 0.7650 - val_loss: 1.0220 - learning_rate: 2.5000e-04\n",
            "Epoch 27/50\n",
            "\u001b[1m1250/1250\u001b[0m \u001b[32m━━━━━━━━━━━━━━━━━━━━\u001b[0m\u001b[37m\u001b[0m \u001b[1m10s\u001b[0m 6ms/step - accuracy: 0.8033 - loss: 0.8913 - val_accuracy: 0.7452 - val_loss: 1.1011 - learning_rate: 2.5000e-04\n",
            "Epoch 28/50\n",
            "\u001b[1m1250/1250\u001b[0m \u001b[32m━━━━━━━━━━━━━━━━━━━━\u001b[0m\u001b[37m\u001b[0m \u001b[1m10s\u001b[0m 6ms/step - accuracy: 0.8107 - loss: 0.8855 - val_accuracy: 0.7541 - val_loss: 1.0832 - learning_rate: 2.5000e-04\n",
            "Epoch 29/50\n",
            "\u001b[1m1250/1250\u001b[0m \u001b[32m━━━━━━━━━━━━━━━━━━━━\u001b[0m\u001b[37m\u001b[0m \u001b[1m7s\u001b[0m 6ms/step - accuracy: 0.8088 - loss: 0.8827 - val_accuracy: 0.7614 - val_loss: 1.0581 - learning_rate: 2.5000e-04\n",
            "Epoch 30/50\n",
            "\u001b[1m1250/1250\u001b[0m \u001b[32m━━━━━━━━━━━━━━━━━━━━\u001b[0m\u001b[37m\u001b[0m \u001b[1m11s\u001b[0m 6ms/step - accuracy: 0.8245 - loss: 0.8379 - val_accuracy: 0.7880 - val_loss: 0.9636 - learning_rate: 1.2500e-04\n",
            "Epoch 31/50\n",
            "\u001b[1m1250/1250\u001b[0m \u001b[32m━━━━━━━━━━━━━━━━━━━━\u001b[0m\u001b[37m\u001b[0m \u001b[1m7s\u001b[0m 6ms/step - accuracy: 0.8374 - loss: 0.7849 - val_accuracy: 0.7823 - val_loss: 0.9730 - learning_rate: 1.2500e-04\n",
            "Epoch 32/50\n",
            "\u001b[1m1250/1250\u001b[0m \u001b[32m━━━━━━━━━━━━━━━━━━━━\u001b[0m\u001b[37m\u001b[0m \u001b[1m8s\u001b[0m 6ms/step - accuracy: 0.8423 - loss: 0.7564 - val_accuracy: 0.7971 - val_loss: 0.9223 - learning_rate: 1.2500e-04\n",
            "Epoch 33/50\n",
            "\u001b[1m1250/1250\u001b[0m \u001b[32m━━━━━━━━━━━━━━━━━━━━\u001b[0m\u001b[37m\u001b[0m \u001b[1m10s\u001b[0m 6ms/step - accuracy: 0.8495 - loss: 0.7327 - val_accuracy: 0.7912 - val_loss: 0.9361 - learning_rate: 1.2500e-04\n",
            "Epoch 34/50\n",
            "\u001b[1m1250/1250\u001b[0m \u001b[32m━━━━━━━━━━━━━━━━━━━━\u001b[0m\u001b[37m\u001b[0m \u001b[1m7s\u001b[0m 6ms/step - accuracy: 0.8504 - loss: 0.7123 - val_accuracy: 0.7932 - val_loss: 0.9179 - learning_rate: 1.2500e-04\n",
            "Epoch 35/50\n",
            "\u001b[1m1250/1250\u001b[0m \u001b[32m━━━━━━━━━━━━━━━━━━━━\u001b[0m\u001b[37m\u001b[0m \u001b[1m10s\u001b[0m 6ms/step - accuracy: 0.8546 - loss: 0.7041 - val_accuracy: 0.7934 - val_loss: 0.9320 - learning_rate: 1.2500e-04\n",
            "Epoch 36/50\n",
            "\u001b[1m1250/1250\u001b[0m \u001b[32m━━━━━━━━━━━━━━━━━━━━\u001b[0m\u001b[37m\u001b[0m \u001b[1m8s\u001b[0m 6ms/step - accuracy: 0.8545 - loss: 0.6945 - val_accuracy: 0.7940 - val_loss: 0.9136 - learning_rate: 1.2500e-04\n",
            "Epoch 37/50\n",
            "\u001b[1m1250/1250\u001b[0m \u001b[32m━━━━━━━━━━━━━━━━━━━━\u001b[0m\u001b[37m\u001b[0m \u001b[1m7s\u001b[0m 6ms/step - accuracy: 0.8551 - loss: 0.6868 - val_accuracy: 0.7793 - val_loss: 0.9808 - learning_rate: 1.2500e-04\n",
            "Epoch 38/50\n",
            "\u001b[1m1250/1250\u001b[0m \u001b[32m━━━━━━━━━━━━━━━━━━━━\u001b[0m\u001b[37m\u001b[0m \u001b[1m8s\u001b[0m 6ms/step - accuracy: 0.8567 - loss: 0.6870 - val_accuracy: 0.7963 - val_loss: 0.9085 - learning_rate: 1.2500e-04\n",
            "Epoch 39/50\n",
            "\u001b[1m1250/1250\u001b[0m \u001b[32m━━━━━━━━━━━━━━━━━━━━\u001b[0m\u001b[37m\u001b[0m \u001b[1m11s\u001b[0m 6ms/step - accuracy: 0.8588 - loss: 0.6727 - val_accuracy: 0.7997 - val_loss: 0.9064 - learning_rate: 1.2500e-04\n",
            "Epoch 40/50\n",
            "\u001b[1m1250/1250\u001b[0m \u001b[32m━━━━━━━━━━━━━━━━━━━━\u001b[0m\u001b[37m\u001b[0m \u001b[1m10s\u001b[0m 6ms/step - accuracy: 0.8683 - loss: 0.6451 - val_accuracy: 0.8081 - val_loss: 0.8888 - learning_rate: 6.2500e-05\n",
            "Epoch 41/50\n",
            "\u001b[1m1250/1250\u001b[0m \u001b[32m━━━━━━━━━━━━━━━━━━━━\u001b[0m\u001b[37m\u001b[0m \u001b[1m10s\u001b[0m 6ms/step - accuracy: 0.8743 - loss: 0.6170 - val_accuracy: 0.8052 - val_loss: 0.8908 - learning_rate: 6.2500e-05\n",
            "Epoch 42/50\n",
            "\u001b[1m1250/1250\u001b[0m \u001b[32m━━━━━━━━━━━━━━━━━━━━\u001b[0m\u001b[37m\u001b[0m \u001b[1m8s\u001b[0m 6ms/step - accuracy: 0.8791 - loss: 0.6019 - val_accuracy: 0.8059 - val_loss: 0.8843 - learning_rate: 6.2500e-05\n",
            "Epoch 43/50\n",
            "\u001b[1m1250/1250\u001b[0m \u001b[32m━━━━━━━━━━━━━━━━━━━━\u001b[0m\u001b[37m\u001b[0m \u001b[1m11s\u001b[0m 7ms/step - accuracy: 0.8829 - loss: 0.5883 - val_accuracy: 0.8050 - val_loss: 0.8816 - learning_rate: 6.2500e-05\n",
            "Epoch 44/50\n",
            "\u001b[1m1250/1250\u001b[0m \u001b[32m━━━━━━━━━━━━━━━━━━━━\u001b[0m\u001b[37m\u001b[0m \u001b[1m9s\u001b[0m 6ms/step - accuracy: 0.8847 - loss: 0.5783 - val_accuracy: 0.7996 - val_loss: 0.9035 - learning_rate: 6.2500e-05\n",
            "Epoch 45/50\n",
            "\u001b[1m1250/1250\u001b[0m \u001b[32m━━━━━━━━━━━━━━━━━━━━\u001b[0m\u001b[37m\u001b[0m \u001b[1m8s\u001b[0m 6ms/step - accuracy: 0.8887 - loss: 0.5619 - val_accuracy: 0.8066 - val_loss: 0.8724 - learning_rate: 6.2500e-05\n",
            "Epoch 46/50\n",
            "\u001b[1m1250/1250\u001b[0m \u001b[32m━━━━━━━━━━━━━━━━━━━━\u001b[0m\u001b[37m\u001b[0m \u001b[1m7s\u001b[0m 6ms/step - accuracy: 0.8899 - loss: 0.5537 - val_accuracy: 0.8072 - val_loss: 0.8824 - learning_rate: 6.2500e-05\n",
            "Epoch 47/50\n",
            "\u001b[1m1250/1250\u001b[0m \u001b[32m━━━━━━━━━━━━━━━━━━━━\u001b[0m\u001b[37m\u001b[0m \u001b[1m7s\u001b[0m 6ms/step - accuracy: 0.8933 - loss: 0.5440 - val_accuracy: 0.8123 - val_loss: 0.8557 - learning_rate: 6.2500e-05\n",
            "Epoch 48/50\n",
            "\u001b[1m1250/1250\u001b[0m \u001b[32m━━━━━━━━━━━━━━━━━━━━\u001b[0m\u001b[37m\u001b[0m \u001b[1m10s\u001b[0m 8ms/step - accuracy: 0.8895 - loss: 0.5494 - val_accuracy: 0.8037 - val_loss: 0.8824 - learning_rate: 6.2500e-05\n",
            "Epoch 49/50\n",
            "\u001b[1m1250/1250\u001b[0m \u001b[32m━━━━━━━━━━━━━━━━━━━━\u001b[0m\u001b[37m\u001b[0m \u001b[1m7s\u001b[0m 6ms/step - accuracy: 0.8925 - loss: 0.5388 - val_accuracy: 0.8079 - val_loss: 0.8696 - learning_rate: 6.2500e-05\n",
            "Epoch 50/50\n",
            "\u001b[1m1250/1250\u001b[0m \u001b[32m━━━━━━━━━━━━━━━━━━━━\u001b[0m\u001b[37m\u001b[0m \u001b[1m8s\u001b[0m 6ms/step - accuracy: 0.9004 - loss: 0.5217 - val_accuracy: 0.8147 - val_loss: 0.8479 - learning_rate: 3.1250e-05\n",
            "For model with l2 value ----->  0.0001\n",
            "Epoch 1/50\n",
            "\u001b[1m1250/1250\u001b[0m \u001b[32m━━━━━━━━━━━━━━━━━━━━\u001b[0m\u001b[37m\u001b[0m \u001b[1m21s\u001b[0m 8ms/step - accuracy: 0.2886 - loss: 2.3253 - val_accuracy: 0.4275 - val_loss: 1.7583 - learning_rate: 0.0010\n",
            "Epoch 2/50\n",
            "\u001b[1m1250/1250\u001b[0m \u001b[32m━━━━━━━━━━━━━━━━━━━━\u001b[0m\u001b[37m\u001b[0m \u001b[1m7s\u001b[0m 6ms/step - accuracy: 0.4367 - loss: 1.7043 - val_accuracy: 0.4178 - val_loss: 1.8181 - learning_rate: 0.0010\n",
            "Epoch 3/50\n",
            "\u001b[1m1250/1250\u001b[0m \u001b[32m━━━━━━━━━━━━━━━━━━━━\u001b[0m\u001b[37m\u001b[0m \u001b[1m8s\u001b[0m 6ms/step - accuracy: 0.5065 - loss: 1.5333 - val_accuracy: 0.5241 - val_loss: 1.5210 - learning_rate: 0.0010\n",
            "Epoch 4/50\n",
            "\u001b[1m1250/1250\u001b[0m \u001b[32m━━━━━━━━━━━━━━━━━━━━\u001b[0m\u001b[37m\u001b[0m \u001b[1m10s\u001b[0m 6ms/step - accuracy: 0.5585 - loss: 1.4319 - val_accuracy: 0.5880 - val_loss: 1.3747 - learning_rate: 0.0010\n",
            "Epoch 5/50\n",
            "\u001b[1m1250/1250\u001b[0m \u001b[32m━━━━━━━━━━━━━━━━━━━━\u001b[0m\u001b[37m\u001b[0m \u001b[1m8s\u001b[0m 6ms/step - accuracy: 0.5976 - loss: 1.3617 - val_accuracy: 0.6204 - val_loss: 1.3404 - learning_rate: 0.0010\n",
            "Epoch 6/50\n",
            "\u001b[1m1250/1250\u001b[0m \u001b[32m━━━━━━━━━━━━━━━━━━━━\u001b[0m\u001b[37m\u001b[0m \u001b[1m10s\u001b[0m 6ms/step - accuracy: 0.6255 - loss: 1.3249 - val_accuracy: 0.6310 - val_loss: 1.3330 - learning_rate: 0.0010\n",
            "Epoch 7/50\n",
            "\u001b[1m1250/1250\u001b[0m \u001b[32m━━━━━━━━━━━━━━━━━━━━\u001b[0m\u001b[37m\u001b[0m \u001b[1m11s\u001b[0m 7ms/step - accuracy: 0.6426 - loss: 1.2967 - val_accuracy: 0.6742 - val_loss: 1.2502 - learning_rate: 0.0010\n",
            "Epoch 8/50\n",
            "\u001b[1m1250/1250\u001b[0m \u001b[32m━━━━━━━━━━━━━━━━━━━━\u001b[0m\u001b[37m\u001b[0m \u001b[1m10s\u001b[0m 6ms/step - accuracy: 0.6690 - loss: 1.2674 - val_accuracy: 0.6725 - val_loss: 1.2852 - learning_rate: 0.0010\n",
            "Epoch 9/50\n",
            "\u001b[1m1250/1250\u001b[0m \u001b[32m━━━━━━━━━━━━━━━━━━━━\u001b[0m\u001b[37m\u001b[0m \u001b[1m7s\u001b[0m 6ms/step - accuracy: 0.6819 - loss: 1.2424 - val_accuracy: 0.6740 - val_loss: 1.2955 - learning_rate: 0.0010\n",
            "Epoch 10/50\n",
            "\u001b[1m1250/1250\u001b[0m \u001b[32m━━━━━━━━━━━━━━━━━━━━\u001b[0m\u001b[37m\u001b[0m \u001b[1m8s\u001b[0m 6ms/step - accuracy: 0.7201 - loss: 1.1446 - val_accuracy: 0.7330 - val_loss: 1.0833 - learning_rate: 5.0000e-04\n",
            "Epoch 11/50\n",
            "\u001b[1m1250/1250\u001b[0m \u001b[32m━━━━━━━━━━━━━━━━━━━━\u001b[0m\u001b[37m\u001b[0m \u001b[1m7s\u001b[0m 6ms/step - accuracy: 0.7362 - loss: 1.0659 - val_accuracy: 0.7338 - val_loss: 1.0738 - learning_rate: 5.0000e-04\n",
            "Epoch 12/50\n",
            "\u001b[1m1250/1250\u001b[0m \u001b[32m━━━━━━━━━━━━━━━━━━━━\u001b[0m\u001b[37m\u001b[0m \u001b[1m10s\u001b[0m 6ms/step - accuracy: 0.7535 - loss: 1.0088 - val_accuracy: 0.7385 - val_loss: 1.0712 - learning_rate: 5.0000e-04\n",
            "Epoch 13/50\n",
            "\u001b[1m1250/1250\u001b[0m \u001b[32m━━━━━━━━━━━━━━━━━━━━\u001b[0m\u001b[37m\u001b[0m \u001b[1m12s\u001b[0m 7ms/step - accuracy: 0.7625 - loss: 0.9804 - val_accuracy: 0.7481 - val_loss: 1.0567 - learning_rate: 5.0000e-04\n",
            "Epoch 14/50\n",
            "\u001b[1m1250/1250\u001b[0m \u001b[32m━━━━━━━━━━━━━━━━━━━━\u001b[0m\u001b[37m\u001b[0m \u001b[1m9s\u001b[0m 6ms/step - accuracy: 0.7665 - loss: 0.9592 - val_accuracy: 0.7545 - val_loss: 1.0276 - learning_rate: 5.0000e-04\n",
            "Epoch 15/50\n",
            "\u001b[1m1250/1250\u001b[0m \u001b[32m━━━━━━━━━━━━━━━━━━━━\u001b[0m\u001b[37m\u001b[0m \u001b[1m7s\u001b[0m 6ms/step - accuracy: 0.7781 - loss: 0.9357 - val_accuracy: 0.7530 - val_loss: 1.0288 - learning_rate: 5.0000e-04\n",
            "Epoch 16/50\n",
            "\u001b[1m1250/1250\u001b[0m \u001b[32m━━━━━━━━━━━━━━━━━━━━\u001b[0m\u001b[37m\u001b[0m \u001b[1m10s\u001b[0m 6ms/step - accuracy: 0.7808 - loss: 0.9251 - val_accuracy: 0.7494 - val_loss: 1.0409 - learning_rate: 5.0000e-04\n",
            "Epoch 17/50\n",
            "\u001b[1m1250/1250\u001b[0m \u001b[32m━━━━━━━━━━━━━━━━━━━━\u001b[0m\u001b[37m\u001b[0m \u001b[1m10s\u001b[0m 6ms/step - accuracy: 0.7891 - loss: 0.9057 - val_accuracy: 0.7425 - val_loss: 1.0711 - learning_rate: 5.0000e-04\n",
            "Epoch 18/50\n",
            "\u001b[1m1250/1250\u001b[0m \u001b[32m━━━━━━━━━━━━━━━━━━━━\u001b[0m\u001b[37m\u001b[0m \u001b[1m8s\u001b[0m 6ms/step - accuracy: 0.7940 - loss: 0.8914 - val_accuracy: 0.7609 - val_loss: 1.0262 - learning_rate: 5.0000e-04\n",
            "Epoch 19/50\n",
            "\u001b[1m1250/1250\u001b[0m \u001b[32m━━━━━━━━━━━━━━━━━━━━\u001b[0m\u001b[37m\u001b[0m \u001b[1m7s\u001b[0m 6ms/step - accuracy: 0.7980 - loss: 0.8819 - val_accuracy: 0.7590 - val_loss: 1.0380 - learning_rate: 5.0000e-04\n",
            "Epoch 20/50\n",
            "\u001b[1m1250/1250\u001b[0m \u001b[32m━━━━━━━━━━━━━━━━━━━━\u001b[0m\u001b[37m\u001b[0m \u001b[1m10s\u001b[0m 6ms/step - accuracy: 0.8190 - loss: 0.8314 - val_accuracy: 0.7760 - val_loss: 0.9905 - learning_rate: 2.5000e-04\n",
            "For model with l2 value ----->  1e-05\n",
            "Epoch 1/50\n",
            "\u001b[1m1250/1250\u001b[0m \u001b[32m━━━━━━━━━━━━━━━━━━━━\u001b[0m\u001b[37m\u001b[0m \u001b[1m20s\u001b[0m 8ms/step - accuracy: 0.2891 - loss: 2.2051 - val_accuracy: 0.3067 - val_loss: 2.0757 - learning_rate: 0.0010\n",
            "Epoch 2/50\n",
            "\u001b[1m1250/1250\u001b[0m \u001b[32m━━━━━━━━━━━━━━━━━━━━\u001b[0m\u001b[37m\u001b[0m \u001b[1m13s\u001b[0m 6ms/step - accuracy: 0.4447 - loss: 1.5581 - val_accuracy: 0.5093 - val_loss: 1.3786 - learning_rate: 0.0010\n",
            "Epoch 3/50\n",
            "\u001b[1m1250/1250\u001b[0m \u001b[32m━━━━━━━━━━━━━━━━━━━━\u001b[0m\u001b[37m\u001b[0m \u001b[1m8s\u001b[0m 6ms/step - accuracy: 0.5222 - loss: 1.3525 - val_accuracy: 0.5269 - val_loss: 1.3469 - learning_rate: 0.0010\n",
            "Epoch 4/50\n",
            "\u001b[1m1250/1250\u001b[0m \u001b[32m━━━━━━━━━━━━━━━━━━━━\u001b[0m\u001b[37m\u001b[0m \u001b[1m10s\u001b[0m 6ms/step - accuracy: 0.5775 - loss: 1.2150 - val_accuracy: 0.5994 - val_loss: 1.1856 - learning_rate: 0.0010\n",
            "Epoch 5/50\n",
            "\u001b[1m1250/1250\u001b[0m \u001b[32m━━━━━━━━━━━━━━━━━━━━\u001b[0m\u001b[37m\u001b[0m \u001b[1m10s\u001b[0m 6ms/step - accuracy: 0.6136 - loss: 1.1318 - val_accuracy: 0.6358 - val_loss: 1.0935 - learning_rate: 0.0010\n",
            "Epoch 6/50\n",
            "\u001b[1m1250/1250\u001b[0m \u001b[32m━━━━━━━━━━━━━━━━━━━━\u001b[0m\u001b[37m\u001b[0m \u001b[1m8s\u001b[0m 6ms/step - accuracy: 0.6349 - loss: 1.0881 - val_accuracy: 0.6469 - val_loss: 1.0801 - learning_rate: 0.0010\n",
            "Epoch 7/50\n",
            "\u001b[1m1250/1250\u001b[0m \u001b[32m━━━━━━━━━━━━━━━━━━━━\u001b[0m\u001b[37m\u001b[0m \u001b[1m7s\u001b[0m 6ms/step - accuracy: 0.6683 - loss: 1.0097 - val_accuracy: 0.6822 - val_loss: 0.9828 - learning_rate: 0.0010\n",
            "Epoch 8/50\n",
            "\u001b[1m1250/1250\u001b[0m \u001b[32m━━━━━━━━━━━━━━━━━━━━\u001b[0m\u001b[37m\u001b[0m \u001b[1m8s\u001b[0m 6ms/step - accuracy: 0.6846 - loss: 0.9649 - val_accuracy: 0.7041 - val_loss: 0.9125 - learning_rate: 0.0010\n",
            "Epoch 9/50\n",
            "\u001b[1m1250/1250\u001b[0m \u001b[32m━━━━━━━━━━━━━━━━━━━━\u001b[0m\u001b[37m\u001b[0m \u001b[1m10s\u001b[0m 6ms/step - accuracy: 0.7025 - loss: 0.9292 - val_accuracy: 0.6777 - val_loss: 1.0010 - learning_rate: 0.0010\n",
            "Epoch 10/50\n",
            "\u001b[1m1250/1250\u001b[0m \u001b[32m━━━━━━━━━━━━━━━━━━━━\u001b[0m\u001b[37m\u001b[0m \u001b[1m10s\u001b[0m 6ms/step - accuracy: 0.7345 - loss: 0.8533 - val_accuracy: 0.7266 - val_loss: 0.8846 - learning_rate: 5.0000e-04\n",
            "Epoch 11/50\n",
            "\u001b[1m1250/1250\u001b[0m \u001b[32m━━━━━━━━━━━━━━━━━━━━\u001b[0m\u001b[37m\u001b[0m \u001b[1m10s\u001b[0m 6ms/step - accuracy: 0.7528 - loss: 0.7891 - val_accuracy: 0.7456 - val_loss: 0.8247 - learning_rate: 5.0000e-04\n",
            "Epoch 12/50\n",
            "\u001b[1m1250/1250\u001b[0m \u001b[32m━━━━━━━━━━━━━━━━━━━━\u001b[0m\u001b[37m\u001b[0m \u001b[1m8s\u001b[0m 6ms/step - accuracy: 0.7665 - loss: 0.7611 - val_accuracy: 0.7384 - val_loss: 0.8520 - learning_rate: 5.0000e-04\n",
            "Epoch 13/50\n",
            "\u001b[1m1250/1250\u001b[0m \u001b[32m━━━━━━━━━━━━━━━━━━━━\u001b[0m\u001b[37m\u001b[0m \u001b[1m8s\u001b[0m 6ms/step - accuracy: 0.7738 - loss: 0.7353 - val_accuracy: 0.7376 - val_loss: 0.8603 - learning_rate: 5.0000e-04\n",
            "Epoch 14/50\n",
            "\u001b[1m1250/1250\u001b[0m \u001b[32m━━━━━━━━━━━━━━━━━━━━\u001b[0m\u001b[37m\u001b[0m \u001b[1m10s\u001b[0m 6ms/step - accuracy: 0.7807 - loss: 0.7084 - val_accuracy: 0.7517 - val_loss: 0.8275 - learning_rate: 5.0000e-04\n",
            "Epoch 15/50\n",
            "\u001b[1m1250/1250\u001b[0m \u001b[32m━━━━━━━━━━━━━━━━━━━━\u001b[0m\u001b[37m\u001b[0m \u001b[1m8s\u001b[0m 6ms/step - accuracy: 0.7871 - loss: 0.6943 - val_accuracy: 0.7582 - val_loss: 0.8181 - learning_rate: 5.0000e-04\n",
            "Epoch 16/50\n",
            "\u001b[1m1250/1250\u001b[0m \u001b[32m━━━━━━━━━━━━━━━━━━━━\u001b[0m\u001b[37m\u001b[0m \u001b[1m10s\u001b[0m 6ms/step - accuracy: 0.7976 - loss: 0.6693 - val_accuracy: 0.7447 - val_loss: 0.8602 - learning_rate: 5.0000e-04\n",
            "Epoch 17/50\n",
            "\u001b[1m1250/1250\u001b[0m \u001b[32m━━━━━━━━━━━━━━━━━━━━\u001b[0m\u001b[37m\u001b[0m \u001b[1m10s\u001b[0m 6ms/step - accuracy: 0.8029 - loss: 0.6463 - val_accuracy: 0.7575 - val_loss: 0.8130 - learning_rate: 5.0000e-04\n",
            "Epoch 18/50\n",
            "\u001b[1m1250/1250\u001b[0m \u001b[32m━━━━━━━━━━━━━━━━━━━━\u001b[0m\u001b[37m\u001b[0m \u001b[1m7s\u001b[0m 6ms/step - accuracy: 0.8094 - loss: 0.6362 - val_accuracy: 0.7684 - val_loss: 0.7943 - learning_rate: 5.0000e-04\n",
            "Epoch 19/50\n",
            "\u001b[1m1250/1250\u001b[0m \u001b[32m━━━━━━━━━━━━━━━━━━━━\u001b[0m\u001b[37m\u001b[0m \u001b[1m8s\u001b[0m 6ms/step - accuracy: 0.8169 - loss: 0.6164 - val_accuracy: 0.7629 - val_loss: 0.8182 - learning_rate: 5.0000e-04\n",
            "Epoch 20/50\n",
            "\u001b[1m1250/1250\u001b[0m \u001b[32m━━━━━━━━━━━━━━━━━━━━\u001b[0m\u001b[37m\u001b[0m \u001b[1m10s\u001b[0m 6ms/step - accuracy: 0.8277 - loss: 0.5822 - val_accuracy: 0.7671 - val_loss: 0.8145 - learning_rate: 2.5000e-04\n",
            "For model with l2 value ----->  1e-06\n",
            "Epoch 1/50\n",
            "\u001b[1m1250/1250\u001b[0m \u001b[32m━━━━━━━━━━━━━━━━━━━━\u001b[0m\u001b[37m\u001b[0m \u001b[1m22s\u001b[0m 10ms/step - accuracy: 0.2907 - loss: 2.1816 - val_accuracy: 0.4467 - val_loss: 1.5476 - learning_rate: 0.0010\n",
            "Epoch 2/50\n",
            "\u001b[1m1250/1250\u001b[0m \u001b[32m━━━━━━━━━━━━━━━━━━━━\u001b[0m\u001b[37m\u001b[0m \u001b[1m7s\u001b[0m 6ms/step - accuracy: 0.4416 - loss: 1.5306 - val_accuracy: 0.4508 - val_loss: 1.5554 - learning_rate: 0.0010\n",
            "Epoch 3/50\n",
            "\u001b[1m1250/1250\u001b[0m \u001b[32m━━━━━━━━━━━━━━━━━━━━\u001b[0m\u001b[37m\u001b[0m \u001b[1m10s\u001b[0m 6ms/step - accuracy: 0.5167 - loss: 1.3518 - val_accuracy: 0.5281 - val_loss: 1.3049 - learning_rate: 0.0010\n",
            "Epoch 4/50\n",
            "\u001b[1m1250/1250\u001b[0m \u001b[32m━━━━━━━━━━━━━━━━━━━━\u001b[0m\u001b[37m\u001b[0m \u001b[1m11s\u001b[0m 6ms/step - accuracy: 0.5623 - loss: 1.2372 - val_accuracy: 0.5965 - val_loss: 1.1316 - learning_rate: 0.0010\n",
            "Epoch 5/50\n",
            "\u001b[1m1250/1250\u001b[0m \u001b[32m━━━━━━━━━━━━━━━━━━━━\u001b[0m\u001b[37m\u001b[0m \u001b[1m8s\u001b[0m 6ms/step - accuracy: 0.5995 - loss: 1.1363 - val_accuracy: 0.6063 - val_loss: 1.1444 - learning_rate: 0.0010\n",
            "Epoch 6/50\n",
            "\u001b[1m1250/1250\u001b[0m \u001b[32m━━━━━━━━━━━━━━━━━━━━\u001b[0m\u001b[37m\u001b[0m \u001b[1m7s\u001b[0m 6ms/step - accuracy: 0.6263 - loss: 1.0722 - val_accuracy: 0.6495 - val_loss: 1.0101 - learning_rate: 0.0010\n",
            "Epoch 7/50\n",
            "\u001b[1m1250/1250\u001b[0m \u001b[32m━━━━━━━━━━━━━━━━━━━━\u001b[0m\u001b[37m\u001b[0m \u001b[1m11s\u001b[0m 6ms/step - accuracy: 0.6514 - loss: 0.9980 - val_accuracy: 0.6064 - val_loss: 1.1436 - learning_rate: 0.0010\n",
            "Epoch 8/50\n",
            "\u001b[1m1250/1250\u001b[0m \u001b[32m━━━━━━━━━━━━━━━━━━━━\u001b[0m\u001b[37m\u001b[0m \u001b[1m8s\u001b[0m 6ms/step - accuracy: 0.6699 - loss: 0.9458 - val_accuracy: 0.6639 - val_loss: 0.9635 - learning_rate: 0.0010\n",
            "Epoch 9/50\n",
            "\u001b[1m1250/1250\u001b[0m \u001b[32m━━━━━━━━━━━━━━━━━━━━\u001b[0m\u001b[37m\u001b[0m \u001b[1m7s\u001b[0m 6ms/step - accuracy: 0.6930 - loss: 0.8928 - val_accuracy: 0.6893 - val_loss: 0.9055 - learning_rate: 0.0010\n",
            "Epoch 10/50\n",
            "\u001b[1m1250/1250\u001b[0m \u001b[32m━━━━━━━━━━━━━━━━━━━━\u001b[0m\u001b[37m\u001b[0m \u001b[1m8s\u001b[0m 6ms/step - accuracy: 0.7229 - loss: 0.7987 - val_accuracy: 0.7215 - val_loss: 0.8068 - learning_rate: 5.0000e-04\n",
            "Epoch 11/50\n",
            "\u001b[1m1250/1250\u001b[0m \u001b[32m━━━━━━━━━━━━━━━━━━━━\u001b[0m\u001b[37m\u001b[0m \u001b[1m7s\u001b[0m 6ms/step - accuracy: 0.7434 - loss: 0.7411 - val_accuracy: 0.7229 - val_loss: 0.8161 - learning_rate: 5.0000e-04\n",
            "Epoch 12/50\n",
            "\u001b[1m1250/1250\u001b[0m \u001b[32m━━━━━━━━━━━━━━━━━━━━\u001b[0m\u001b[37m\u001b[0m \u001b[1m8s\u001b[0m 6ms/step - accuracy: 0.7566 - loss: 0.7088 - val_accuracy: 0.7352 - val_loss: 0.7801 - learning_rate: 5.0000e-04\n",
            "Epoch 13/50\n",
            "\u001b[1m1250/1250\u001b[0m \u001b[32m━━━━━━━━━━━━━━━━━━━━\u001b[0m\u001b[37m\u001b[0m \u001b[1m10s\u001b[0m 6ms/step - accuracy: 0.7639 - loss: 0.6847 - val_accuracy: 0.7436 - val_loss: 0.7501 - learning_rate: 5.0000e-04\n",
            "Epoch 14/50\n",
            "\u001b[1m1250/1250\u001b[0m \u001b[32m━━━━━━━━━━━━━━━━━━━━\u001b[0m\u001b[37m\u001b[0m \u001b[1m7s\u001b[0m 6ms/step - accuracy: 0.7739 - loss: 0.6596 - val_accuracy: 0.7387 - val_loss: 0.7613 - learning_rate: 5.0000e-04\n",
            "Epoch 15/50\n",
            "\u001b[1m1250/1250\u001b[0m \u001b[32m━━━━━━━━━━━━━━━━━━━━\u001b[0m\u001b[37m\u001b[0m \u001b[1m8s\u001b[0m 6ms/step - accuracy: 0.7850 - loss: 0.6332 - val_accuracy: 0.7519 - val_loss: 0.7495 - learning_rate: 5.0000e-04\n",
            "Epoch 16/50\n",
            "\u001b[1m1250/1250\u001b[0m \u001b[32m━━━━━━━━━━━━━━━━━━━━\u001b[0m\u001b[37m\u001b[0m \u001b[1m7s\u001b[0m 6ms/step - accuracy: 0.7846 - loss: 0.6174 - val_accuracy: 0.7352 - val_loss: 0.7821 - learning_rate: 5.0000e-04\n",
            "Epoch 17/50\n",
            "\u001b[1m1250/1250\u001b[0m \u001b[32m━━━━━━━━━━━━━━━━━━━━\u001b[0m\u001b[37m\u001b[0m \u001b[1m10s\u001b[0m 6ms/step - accuracy: 0.7901 - loss: 0.6018 - val_accuracy: 0.7457 - val_loss: 0.7619 - learning_rate: 5.0000e-04\n",
            "Epoch 18/50\n",
            "\u001b[1m1250/1250\u001b[0m \u001b[32m━━━━━━━━━━━━━━━━━━━━\u001b[0m\u001b[37m\u001b[0m \u001b[1m10s\u001b[0m 6ms/step - accuracy: 0.8009 - loss: 0.5762 - val_accuracy: 0.7233 - val_loss: 0.8902 - learning_rate: 5.0000e-04\n",
            "Epoch 19/50\n",
            "\u001b[1m1250/1250\u001b[0m \u001b[32m━━━━━━━━━━━━━━━━━━━━\u001b[0m\u001b[37m\u001b[0m \u001b[1m11s\u001b[0m 6ms/step - accuracy: 0.8046 - loss: 0.5681 - val_accuracy: 0.7416 - val_loss: 0.7970 - learning_rate: 5.0000e-04\n",
            "Epoch 20/50\n",
            "\u001b[1m1250/1250\u001b[0m \u001b[32m━━━━━━━━━━━━━━━━━━━━\u001b[0m\u001b[37m\u001b[0m \u001b[1m8s\u001b[0m 6ms/step - accuracy: 0.8232 - loss: 0.5203 - val_accuracy: 0.7626 - val_loss: 0.7124 - learning_rate: 2.5000e-04\n"
          ]
        },
        {
          "output_type": "display_data",
          "data": {
            "text/plain": [
              "<Figure size 1200x500 with 2 Axes>"
            ],
            "image/png": "[encoded data removed]"
          },
          "metadata": {}
        },
        {
          "output_type": "stream",
          "name": "stdout",
          "text": [
            "Best L2 Value: 0.001\n",
            "Best Validation Accuracy: 0.8147\n",
            "\u001b[1m313/313\u001b[0m \u001b[32m━━━━━━━━━━━━━━━━━━━━\u001b[0m\u001b[37m\u001b[0m \u001b[1m1s\u001b[0m 3ms/step - accuracy: 0.7195 - loss: 1.3310\n",
            "Best L2 Value: 0.001\n",
            "Test Accuracy: 0.7177000045776367\n",
            "CPU times: user 15min 9s, sys: 37 s, total: 15min 46s\n",
            "Wall time: 17min 17s\n"
          ]
        }
      ]
    },
    {
      "cell_type": "markdown",
      "source": [
        "# Running experiments to figure out the best values for hyper-parameters for Model-2"
      ],
      "metadata": {
        "id": "W0fednGtG0SH"
      }
    },
    {
      "cell_type": "markdown",
      "source": [
        "# CNN Model 2: Enhanced Model with Batch Normalization and Deeper Architecture\n",
        "\n",
        "This document outlines the architecture and implementation details of an enhanced CNN model (`CNN_model_2`) for image classification, building upon previous iterations.\n",
        "\n",
        "## Key Improvements\n",
        "\n",
        "* **Batch Normalization:** `BatchNormalization` layers are introduced after each convolutional layer to stabilize training, speed up convergence, and potentially improve overall performance.\n",
        "* **Deeper Architecture:** A fourth convolutional block has been added to further increase the network's capacity to learn complex features.\n",
        "\n",
        "\n",
        "## Model Architecture\n",
        "\n",
        "The model consists of the following layers:\n",
        "\n",
        "* **Convolutional Layers:**\n",
        "    * Four convolutional blocks, each with:\n",
        "        * Two `Conv2D` layers with increasing filter counts (32, 64, 128, 256) except for the fourth layer.\n",
        "        * `kernel_size` of (3, 3) for all convolutional layers.\n",
        "        * `padding='same'` to maintain spatial dimensions.\n",
        "        * `BatchNormalization` after each `Conv2D` layer.\n",
        "        * `relu` activation function for introducing non-linearity.\n",
        "    * `MaxPooling2D` layers with a pool size of (2, 2) for downsampling.\n",
        "    * `Dropout` layers with a rate of 0.25 to prevent overfitting.\n",
        "\n",
        "* **Dense Layers:**\n",
        "    * `Flatten` layer to convert feature maps into a 1D vector.\n",
        "    * `Dense` layer with 512 neurons and `relu` activation.\n",
        "    * `Dense` layer with 256 neurons and `relu` activation.\n",
        "    * `Dropout` layer with a rate of 0.25.\n",
        "    * Output `Dense` layer with `N_CLASSES` neurons and `softmax` activation for probability distribution over classes.\n",
        "\n",
        "## Model Compilation and Training\n",
        "\n",
        "* **Optimizer:** `adam` optimizer.\n",
        "* **Loss Function:** `sparse_categorical_crossentropy`.\n",
        "* **Metrics:** `accuracy`.\n",
        "* **Training:** The model is trained using augmented data from `ImageDataGenerator`.\n",
        "\n"
      ],
      "metadata": {
        "id": "-62Gc3_cG0SH"
      }
    },
    {
      "cell_type": "markdown",
      "source": [
        "### Function to create models with given parameters"
      ],
      "metadata": {
        "id": "kB-C1UBJG0SH"
      }
    },
    {
      "cell_type": "code",
      "source": [
        "def create_model_with_l2_arch_2(input_shape, num_classes, l2_value):\n",
        "\n",
        "    model = models.Sequential([\n",
        "        # First Convolutional Block\n",
        "        layers.Conv2D(filters=32, kernel_size=(3, 3), padding='same', input_shape=input_shape, kernel_regularizer=regularizers.l2(l2_value)),\n",
        "        layers.BatchNormalization(),\n",
        "        layers.Activation('relu'),\n",
        "        layers.Conv2D(filters=32, kernel_size=(3, 3), padding='same', kernel_regularizer=regularizers.l2(l2_value)),\n",
        "        layers.BatchNormalization(),\n",
        "        layers.Activation('relu'),\n",
        "        layers.MaxPooling2D((2, 2)),\n",
        "        layers.Dropout(0.25),\n",
        "\n",
        "        # Second Convolutional Block\n",
        "        layers.Conv2D(filters=64, kernel_size=(3, 3), padding='same', kernel_regularizer=regularizers.l2(l2_value)),\n",
        "        layers.BatchNormalization(),\n",
        "        layers.Activation('relu'),\n",
        "        layers.Conv2D(filters=64, kernel_size=(3, 3), padding='same', kernel_regularizer=regularizers.l2(l2_value)),\n",
        "        layers.BatchNormalization(),\n",
        "        layers.Activation('relu'),\n",
        "        layers.MaxPooling2D((2, 2)),\n",
        "        layers.Dropout(0.35),\n",
        "\n",
        "        # Third Convolutional Block\n",
        "        layers.Conv2D(filters = 128, kernel_size = (3, 3), activation='relu', padding='same', kernel_regularizer=regularizers.l2(l2_value)),\n",
        "        layers.BatchNormalization(),\n",
        "        layers.Conv2D(filters = 128, kernel_size = (3, 3), activation='relu', padding='same', kernel_regularizer=regularizers.l2(l2_value)),\n",
        "        layers.BatchNormalization(),\n",
        "        layers.MaxPooling2D((2, 2)),\n",
        "        layers.Dropout(0.4),\n",
        "\n",
        "         # Fourth Convolutional Block\n",
        "        layers.Conv2D(filters = 256, kernel_size = (3, 3), activation='relu', padding='same', kernel_regularizer=regularizers.l2(0.0001)),\n",
        "        layers.BatchNormalization(),\n",
        "        layers.Conv2D(filters = 256, kernel_size = (3, 3), activation='relu', padding='same', kernel_regularizer=regularizers.l2(0.0001)),\n",
        "        layers.BatchNormalization(),\n",
        "        layers.MaxPooling2D((2, 2)),\n",
        "        layers.Dropout(0.25),\n",
        "\n",
        "        # Fully connected layers for classification\n",
        "        layers.Flatten(),\n",
        "        layers.Dense(1024, activation='relu',kernel_regularizer=regularizers.l2(l2_value)),\n",
        "        layers.BatchNormalization(),\n",
        "        layers.Dropout(0.35),\n",
        "        layers.Dense(512, activation='relu',kernel_regularizer=regularizers.l2(l2_value)),\n",
        "        layers.BatchNormalization(),\n",
        "        layers.Dropout(0.35),\n",
        "        layers.Dense(N_CLASSES, activation='softmax')\n",
        "    ])\n",
        "\n",
        "    model.compile(\n",
        "        optimizer=Adam(0.001),\n",
        "        loss='sparse_categorical_crossentropy',\n",
        "        metrics=['accuracy']\n",
        "    )\n",
        "\n",
        "    return model"
      ],
      "metadata": {
        "id": "JhsdSim7G0SI"
      },
      "execution_count": null,
      "outputs": []
    },
    {
      "cell_type": "markdown",
      "source": [
        "### Function to train the model with different hyper-parameter values"
      ],
      "metadata": {
        "id": "r3VN2DK2YAPU"
      }
    },
    {
      "cell_type": "code",
      "source": [
        "def train_model_with_l2_arch_2(model, X_train, Y_train, X_val, Y_val, epochs=50, batch_size=32):\n",
        "\n",
        "    # Learning rate schedule for the optimizer\n",
        "    def lr_schedule(epoch):\n",
        "        initial_lr = 0.001\n",
        "        drop = 0.5\n",
        "        epochs_drop = 10.0\n",
        "        lr = initial_lr * np.power(drop, np.floor((1+epoch)/epochs_drop))\n",
        "        return lr\n",
        "\n",
        "    # Training the model\n",
        "    history = model.fit(X_train, Y_train, batch_size=batch_size,\n",
        "                        epochs=epochs,\n",
        "                        validation_data=(X_val, Y_val),\n",
        "                        callbacks=[early_stopping,tf.keras.callbacks.LearningRateScheduler(lr_schedule)],\n",
        "                        verbose=1\n",
        "    )\n",
        "\n",
        "    return model, history"
      ],
      "metadata": {
        "id": "r-zFovLsYAPV"
      },
      "execution_count": null,
      "outputs": []
    },
    {
      "cell_type": "markdown",
      "source": [
        "### Function for Results Visualization"
      ],
      "metadata": {
        "id": "uQGKOoP0YAPV"
      }
    },
    {
      "cell_type": "code",
      "source": [
        "def plot_l2_results_arch_2(results):\n",
        "\n",
        "    plt.figure(figsize=(12, 5))\n",
        "\n",
        "    # Comparing the Validation Accuracy\n",
        "    plt.subplot(1, 2, 1)\n",
        "    plt.title('Validation Accuracy for Different L2 Values')\n",
        "    plt.bar(\n",
        "        [str(l2) for l2 in results.keys()],\n",
        "        [results[l2]['val_accuracy'] for l2 in results.keys()]\n",
        "    )\n",
        "    plt.ylabel('Validation Accuracy')\n",
        "    plt.xlabel('L2 Regularization Value')\n",
        "    plt.xticks(rotation=45)\n",
        "\n",
        "    # Finding best L2 value\n",
        "    best_l2 = max(results, key=lambda k: results[k]['val_accuracy'])\n",
        "    best_result = results[best_l2]\n",
        "\n",
        "    # Training History for Best Model\n",
        "    plt.subplot(1, 2, 2)\n",
        "    plt.title(f'Training History (Best L2: {best_l2})')\n",
        "    plt.plot(best_result['history'].history['accuracy'], label='Training Accuracy')\n",
        "    plt.plot(best_result['history'].history['val_accuracy'], label='Validation Accuracy')\n",
        "    plt.xlabel('Epoch')\n",
        "    plt.ylabel('Accuracy')\n",
        "    plt.legend()\n",
        "\n",
        "    plt.tight_layout()\n",
        "    plt.show()\n",
        "\n",
        "    # Printing the best result details\n",
        "    print(f\"Best L2 Value: {best_l2}\")\n",
        "    print(f\"Best Validation Accuracy: {best_result['val_accuracy']:.4f}\")"
      ],
      "metadata": {
        "id": "_KjYn_2QYAPV"
      },
      "execution_count": null,
      "outputs": []
    },
    {
      "cell_type": "markdown",
      "source": [
        "### Main L2 Regularization Tuning Function"
      ],
      "metadata": {
        "id": "RrixqENUYAPV"
      }
    },
    {
      "cell_type": "code",
      "source": [
        "def tune_l2_regularization_arch_2(X_train, Y_train, X_val, Y_val, input_shape, num_classes, l2_values):\n",
        "    \"\"\"\n",
        "    Tune L2 regularization hyperparameter\n",
        "\n",
        "    Parameters:\n",
        "    - X_train, Y_train: Training data and labels\n",
        "    - X_val, Y_val: Validation data and labels\n",
        "    - input_shape: Shape of input images\n",
        "    - num_classes: Number of classification classes\n",
        "    - l2_values: List of L2 regularization values to try\n",
        "\n",
        "    Returns:\n",
        "    - Dictionary of results for different L2 values\n",
        "    \"\"\"\n",
        "    # Dictionary to store results\n",
        "    results = {}\n",
        "\n",
        "    # Try each L2 value\n",
        "    for l2_value in l2_values:\n",
        "        # Clearing the previous model and session to prevent any memory erros\n",
        "        tf.keras.backend.clear_session()\n",
        "        print(f'For model with l2 value -----> ',l2_value)\n",
        "        # Creating the  model\n",
        "        model = create_model_with_l2_arch_2(input_shape, num_classes, l2_value)\n",
        "\n",
        "        # Training the model\n",
        "        trained_model, history = train_model_with_l2_arch_2(model, X_train, Y_train, X_val, Y_val)\n",
        "\n",
        "        # Evaluating the  model\n",
        "        val_loss, val_accuracy = trained_model.evaluate(X_val, Y_val, verbose=0)\n",
        "\n",
        "        # Storing the results\n",
        "        results[l2_value] = {\n",
        "            'model': trained_model,\n",
        "            'val_accuracy': val_accuracy,\n",
        "            'val_loss': val_loss,\n",
        "            'history': history\n",
        "        }\n",
        "\n",
        "    # Visualizing the results\n",
        "    plot_l2_results(results)\n",
        "\n",
        "    return results"
      ],
      "metadata": {
        "id": "sOFlZ9vfYAPV"
      },
      "execution_count": null,
      "outputs": []
    },
    {
      "cell_type": "markdown",
      "source": [
        "## Running the test"
      ],
      "metadata": {
        "id": "OdrDE4ERYAPV"
      }
    },
    {
      "cell_type": "code",
      "source": [
        "%%time\n",
        "\n",
        "# Running the L2 regularization tuning\n",
        "results = tune_l2_regularization_arch_2(\n",
        "    X_train_aug, Y_train,\n",
        "    X_val_aug, Y_val,\n",
        "    input_shape=INPUT_SHAPE,\n",
        "    num_classes=N_CLASSES,\n",
        "    l2_values=l2_values\n",
        ")\n",
        "\n",
        "# Finding the L2 value with the highest validation accuracy\n",
        "best_l2 = max(results, key=lambda k: results[k]['val_accuracy'])\n",
        "best_model = results[best_l2]['model']\n",
        "\n",
        "# Using the best model for evaluation\n",
        "test_loss, test_accuracy = best_model.evaluate(X_test, Y_test)\n",
        "print(f\"Best L2 Value: {best_l2}\")\n",
        "print(f\"Test Accuracy: {test_accuracy}\")"
      ],
      "metadata": {
        "colab": {
          "base_uri": "https://localhost:8080/",
          "height": 1000
        },
        "outputId": "d5b059ce-9d5f-49ce-8510-bc1df85b49a5",
        "id": "eAiBj_btYAPV"
      },
      "execution_count": null,
      "outputs": [
        {
          "output_type": "stream",
          "name": "stdout",
          "text": [
            "For model with l2 value ----->  0.001\n",
            "Epoch 1/50\n",
            "\u001b[1m1563/1563\u001b[0m \u001b[32m━━━━━━━━━━━━━━━━━━━━\u001b[0m\u001b[37m\u001b[0m \u001b[1m39s\u001b[0m 16ms/step - accuracy: 0.2610 - loss: 4.1972 - val_accuracy: 0.3411 - val_loss: 2.9188 - learning_rate: 0.0010\n",
            "Epoch 2/50\n",
            "\u001b[1m1563/1563\u001b[0m \u001b[32m━━━━━━━━━━━━━━━━━━━━\u001b[0m\u001b[37m\u001b[0m \u001b[1m23s\u001b[0m 9ms/step - accuracy: 0.4336 - loss: 2.3273 - val_accuracy: 0.3390 - val_loss: 2.6688 - learning_rate: 0.0010\n",
            "Epoch 3/50\n",
            "\u001b[1m1563/1563\u001b[0m \u001b[32m━━━━━━━━━━━━━━━━━━━━\u001b[0m\u001b[37m\u001b[0m \u001b[1m19s\u001b[0m 8ms/step - accuracy: 0.5051 - loss: 1.8829 - val_accuracy: 0.5063 - val_loss: 1.8826 - learning_rate: 0.0010\n",
            "Epoch 4/50\n",
            "\u001b[1m1563/1563\u001b[0m \u001b[32m━━━━━━━━━━━━━━━━━━━━\u001b[0m\u001b[37m\u001b[0m \u001b[1m13s\u001b[0m 9ms/step - accuracy: 0.5471 - loss: 1.7769 - val_accuracy: 0.5215 - val_loss: 1.8926 - learning_rate: 0.0010\n",
            "Epoch 5/50\n",
            "\u001b[1m1563/1563\u001b[0m \u001b[32m━━━━━━━━━━━━━━━━━━━━\u001b[0m\u001b[37m\u001b[0m \u001b[1m22s\u001b[0m 9ms/step - accuracy: 0.5833 - loss: 1.7417 - val_accuracy: 0.4932 - val_loss: 2.0126 - learning_rate: 0.0010\n",
            "Epoch 6/50\n",
            "\u001b[1m1563/1563\u001b[0m \u001b[32m━━━━━━━━━━━━━━━━━━━━\u001b[0m\u001b[37m\u001b[0m \u001b[1m19s\u001b[0m 9ms/step - accuracy: 0.6087 - loss: 1.7209 - val_accuracy: 0.5284 - val_loss: 2.0531 - learning_rate: 0.0010\n",
            "Epoch 7/50\n",
            "\u001b[1m1563/1563\u001b[0m \u001b[32m━━━━━━━━━━━━━━━━━━━━\u001b[0m\u001b[37m\u001b[0m \u001b[1m16s\u001b[0m 10ms/step - accuracy: 0.6231 - loss: 1.7061 - val_accuracy: 0.5514 - val_loss: 1.9800 - learning_rate: 0.0010\n",
            "Epoch 8/50\n",
            "\u001b[1m1563/1563\u001b[0m \u001b[32m━━━━━━━━━━━━━━━━━━━━\u001b[0m\u001b[37m\u001b[0m \u001b[1m16s\u001b[0m 10ms/step - accuracy: 0.6313 - loss: 1.6962 - val_accuracy: 0.6599 - val_loss: 1.6036 - learning_rate: 0.0010\n",
            "Epoch 9/50\n",
            "\u001b[1m1563/1563\u001b[0m \u001b[32m━━━━━━━━━━━━━━━━━━━━\u001b[0m\u001b[37m\u001b[0m \u001b[1m20s\u001b[0m 9ms/step - accuracy: 0.6424 - loss: 1.6657 - val_accuracy: 0.6476 - val_loss: 1.6408 - learning_rate: 0.0010\n",
            "Epoch 10/50\n",
            "\u001b[1m1563/1563\u001b[0m \u001b[32m━━━━━━━━━━━━━━━━━━━━\u001b[0m\u001b[37m\u001b[0m \u001b[1m20s\u001b[0m 9ms/step - accuracy: 0.6890 - loss: 1.4749 - val_accuracy: 0.6464 - val_loss: 1.5367 - learning_rate: 5.0000e-04\n",
            "Epoch 11/50\n",
            "\u001b[1m1563/1563\u001b[0m \u001b[32m━━━━━━━━━━━━━━━━━━━━\u001b[0m\u001b[37m\u001b[0m \u001b[1m16s\u001b[0m 10ms/step - accuracy: 0.7118 - loss: 1.3360 - val_accuracy: 0.7309 - val_loss: 1.2505 - learning_rate: 5.0000e-04\n",
            "Epoch 12/50\n",
            "\u001b[1m1563/1563\u001b[0m \u001b[32m━━━━━━━━━━━━━━━━━━━━\u001b[0m\u001b[37m\u001b[0m \u001b[1m18s\u001b[0m 8ms/step - accuracy: 0.7195 - loss: 1.2953 - val_accuracy: 0.7570 - val_loss: 1.1952 - learning_rate: 5.0000e-04\n",
            "Epoch 13/50\n",
            "\u001b[1m1563/1563\u001b[0m \u001b[32m━━━━━━━━━━━━━━━━━━━━\u001b[0m\u001b[37m\u001b[0m \u001b[1m13s\u001b[0m 8ms/step - accuracy: 0.7246 - loss: 1.2665 - val_accuracy: 0.7342 - val_loss: 1.2462 - learning_rate: 5.0000e-04\n",
            "Epoch 14/50\n",
            "\u001b[1m1563/1563\u001b[0m \u001b[32m━━━━━━━━━━━━━━━━━━━━\u001b[0m\u001b[37m\u001b[0m \u001b[1m15s\u001b[0m 9ms/step - accuracy: 0.7368 - loss: 1.2483 - val_accuracy: 0.7522 - val_loss: 1.1936 - learning_rate: 5.0000e-04\n",
            "Epoch 15/50\n",
            "\u001b[1m1563/1563\u001b[0m \u001b[32m━━━━━━━━━━━━━━━━━━━━\u001b[0m\u001b[37m\u001b[0m \u001b[1m22s\u001b[0m 10ms/step - accuracy: 0.7394 - loss: 1.2309 - val_accuracy: 0.7575 - val_loss: 1.1714 - learning_rate: 5.0000e-04\n",
            "Epoch 16/50\n",
            "\u001b[1m1563/1563\u001b[0m \u001b[32m━━━━━━━━━━━━━━━━━━━━\u001b[0m\u001b[37m\u001b[0m \u001b[1m15s\u001b[0m 9ms/step - accuracy: 0.7434 - loss: 1.2220 - val_accuracy: 0.7630 - val_loss: 1.1739 - learning_rate: 5.0000e-04\n",
            "Epoch 17/50\n",
            "\u001b[1m1563/1563\u001b[0m \u001b[32m━━━━━━━━━━━━━━━━━━━━\u001b[0m\u001b[37m\u001b[0m \u001b[1m19s\u001b[0m 8ms/step - accuracy: 0.7474 - loss: 1.2168 - val_accuracy: 0.7261 - val_loss: 1.2866 - learning_rate: 5.0000e-04\n",
            "Epoch 18/50\n",
            "\u001b[1m1563/1563\u001b[0m \u001b[32m━━━━━━━━━━━━━━━━━━━━\u001b[0m\u001b[37m\u001b[0m \u001b[1m21s\u001b[0m 8ms/step - accuracy: 0.7549 - loss: 1.2055 - val_accuracy: 0.7539 - val_loss: 1.1997 - learning_rate: 5.0000e-04\n",
            "Epoch 19/50\n",
            "\u001b[1m1563/1563\u001b[0m \u001b[32m━━━━━━━━━━━━━━━━━━━━\u001b[0m\u001b[37m\u001b[0m \u001b[1m20s\u001b[0m 8ms/step - accuracy: 0.7608 - loss: 1.1954 - val_accuracy: 0.7448 - val_loss: 1.2332 - learning_rate: 5.0000e-04\n",
            "Epoch 20/50\n",
            "\u001b[1m1563/1563\u001b[0m \u001b[32m━━━━━━━━━━━━━━━━━━━━\u001b[0m\u001b[37m\u001b[0m \u001b[1m14s\u001b[0m 9ms/step - accuracy: 0.7838 - loss: 1.1037 - val_accuracy: 0.8037 - val_loss: 1.0077 - learning_rate: 2.5000e-04\n",
            "Epoch 21/50\n",
            "\u001b[1m1563/1563\u001b[0m \u001b[32m━━━━━━━━━━━━━━━━━━━━\u001b[0m\u001b[37m\u001b[0m \u001b[1m13s\u001b[0m 8ms/step - accuracy: 0.7991 - loss: 1.0126 - val_accuracy: 0.7998 - val_loss: 1.0029 - learning_rate: 2.5000e-04\n",
            "Epoch 22/50\n",
            "\u001b[1m1563/1563\u001b[0m \u001b[32m━━━━━━━━━━━━━━━━━━━━\u001b[0m\u001b[37m\u001b[0m \u001b[1m21s\u001b[0m 9ms/step - accuracy: 0.8051 - loss: 0.9792 - val_accuracy: 0.8002 - val_loss: 0.9874 - learning_rate: 2.5000e-04\n",
            "Epoch 23/50\n",
            "\u001b[1m1563/1563\u001b[0m \u001b[32m━━━━━━━━━━━━━━━━━━━━\u001b[0m\u001b[37m\u001b[0m \u001b[1m22s\u001b[0m 10ms/step - accuracy: 0.8127 - loss: 0.9478 - val_accuracy: 0.8030 - val_loss: 0.9800 - learning_rate: 2.5000e-04\n",
            "Epoch 24/50\n",
            "\u001b[1m1563/1563\u001b[0m \u001b[32m━━━━━━━━━━━━━━━━━━━━\u001b[0m\u001b[37m\u001b[0m \u001b[1m15s\u001b[0m 9ms/step - accuracy: 0.8144 - loss: 0.9312 - val_accuracy: 0.8065 - val_loss: 0.9710 - learning_rate: 2.5000e-04\n",
            "Epoch 25/50\n",
            "\u001b[1m1563/1563\u001b[0m \u001b[32m━━━━━━━━━━━━━━━━━━━━\u001b[0m\u001b[37m\u001b[0m \u001b[1m19s\u001b[0m 9ms/step - accuracy: 0.8206 - loss: 0.9124 - val_accuracy: 0.8104 - val_loss: 0.9583 - learning_rate: 2.5000e-04\n",
            "Epoch 26/50\n",
            "\u001b[1m1563/1563\u001b[0m \u001b[32m━━━━━━━━━━━━━━━━━━━━\u001b[0m\u001b[37m\u001b[0m \u001b[1m14s\u001b[0m 9ms/step - accuracy: 0.8234 - loss: 0.9032 - val_accuracy: 0.8048 - val_loss: 0.9670 - learning_rate: 2.5000e-04\n",
            "Epoch 27/50\n",
            "\u001b[1m1563/1563\u001b[0m \u001b[32m━━━━━━━━━━━━━━━━━━━━\u001b[0m\u001b[37m\u001b[0m \u001b[1m13s\u001b[0m 8ms/step - accuracy: 0.8266 - loss: 0.8948 - val_accuracy: 0.8037 - val_loss: 0.9793 - learning_rate: 2.5000e-04\n",
            "Epoch 28/50\n",
            "\u001b[1m1563/1563\u001b[0m \u001b[32m━━━━━━━━━━━━━━━━━━━━\u001b[0m\u001b[37m\u001b[0m \u001b[1m21s\u001b[0m 8ms/step - accuracy: 0.8245 - loss: 0.8912 - val_accuracy: 0.7955 - val_loss: 1.0016 - learning_rate: 2.5000e-04\n",
            "Epoch 29/50\n",
            "\u001b[1m1563/1563\u001b[0m \u001b[32m━━━━━━━━━━━━━━━━━━━━\u001b[0m\u001b[37m\u001b[0m \u001b[1m23s\u001b[0m 10ms/step - accuracy: 0.8327 - loss: 0.8747 - val_accuracy: 0.8133 - val_loss: 0.9486 - learning_rate: 2.5000e-04\n",
            "Epoch 30/50\n",
            "\u001b[1m1563/1563\u001b[0m \u001b[32m━━━━━━━━━━━━━━━━━━━━\u001b[0m\u001b[37m\u001b[0m \u001b[1m13s\u001b[0m 8ms/step - accuracy: 0.8501 - loss: 0.8187 - val_accuracy: 0.8302 - val_loss: 0.9019 - learning_rate: 1.2500e-04\n",
            "Epoch 31/50\n",
            "\u001b[1m1563/1563\u001b[0m \u001b[32m━━━━━━━━━━━━━━━━━━━━\u001b[0m\u001b[37m\u001b[0m \u001b[1m22s\u001b[0m 9ms/step - accuracy: 0.8640 - loss: 0.7578 - val_accuracy: 0.8320 - val_loss: 0.8794 - learning_rate: 1.2500e-04\n",
            "Epoch 32/50\n",
            "\u001b[1m1563/1563\u001b[0m \u001b[32m━━━━━━━━━━━━━━━━━━━━\u001b[0m\u001b[37m\u001b[0m \u001b[1m14s\u001b[0m 9ms/step - accuracy: 0.8731 - loss: 0.7271 - val_accuracy: 0.8353 - val_loss: 0.8595 - learning_rate: 1.2500e-04\n",
            "Epoch 33/50\n",
            "\u001b[1m1563/1563\u001b[0m \u001b[32m━━━━━━━━━━━━━━━━━━━━\u001b[0m\u001b[37m\u001b[0m \u001b[1m14s\u001b[0m 9ms/step - accuracy: 0.8740 - loss: 0.7152 - val_accuracy: 0.8282 - val_loss: 0.8964 - learning_rate: 1.2500e-04\n",
            "Epoch 34/50\n",
            "\u001b[1m1563/1563\u001b[0m \u001b[32m━━━━━━━━━━━━━━━━━━━━\u001b[0m\u001b[37m\u001b[0m \u001b[1m20s\u001b[0m 8ms/step - accuracy: 0.8751 - loss: 0.6938 - val_accuracy: 0.8341 - val_loss: 0.8697 - learning_rate: 1.2500e-04\n",
            "Epoch 35/50\n",
            "\u001b[1m1563/1563\u001b[0m \u001b[32m━━━━━━━━━━━━━━━━━━━━\u001b[0m\u001b[37m\u001b[0m \u001b[1m21s\u001b[0m 9ms/step - accuracy: 0.8797 - loss: 0.6817 - val_accuracy: 0.8328 - val_loss: 0.8829 - learning_rate: 1.2500e-04\n",
            "Epoch 36/50\n",
            "\u001b[1m1563/1563\u001b[0m \u001b[32m━━━━━━━━━━━━━━━━━━━━\u001b[0m\u001b[37m\u001b[0m \u001b[1m13s\u001b[0m 9ms/step - accuracy: 0.8850 - loss: 0.6682 - val_accuracy: 0.8350 - val_loss: 0.8666 - learning_rate: 1.2500e-04\n",
            "Epoch 37/50\n",
            "\u001b[1m1563/1563\u001b[0m \u001b[32m━━━━━━━━━━━━━━━━━━━━\u001b[0m\u001b[37m\u001b[0m \u001b[1m14s\u001b[0m 9ms/step - accuracy: 0.8874 - loss: 0.6581 - val_accuracy: 0.8195 - val_loss: 0.9279 - learning_rate: 1.2500e-04\n",
            "Epoch 38/50\n",
            "\u001b[1m1563/1563\u001b[0m \u001b[32m━━━━━━━━━━━━━━━━━━━━\u001b[0m\u001b[37m\u001b[0m \u001b[1m19s\u001b[0m 8ms/step - accuracy: 0.8879 - loss: 0.6487 - val_accuracy: 0.8295 - val_loss: 0.8871 - learning_rate: 1.2500e-04\n",
            "Epoch 39/50\n",
            "\u001b[1m1563/1563\u001b[0m \u001b[32m━━━━━━━━━━━━━━━━━━━━\u001b[0m\u001b[37m\u001b[0m \u001b[1m14s\u001b[0m 9ms/step - accuracy: 0.8893 - loss: 0.6448 - val_accuracy: 0.8354 - val_loss: 0.8649 - learning_rate: 1.2500e-04\n",
            "Epoch 40/50\n",
            "\u001b[1m1563/1563\u001b[0m \u001b[32m━━━━━━━━━━━━━━━━━━━━\u001b[0m\u001b[37m\u001b[0m \u001b[1m19s\u001b[0m 9ms/step - accuracy: 0.9001 - loss: 0.6080 - val_accuracy: 0.8404 - val_loss: 0.8563 - learning_rate: 6.2500e-05\n",
            "Epoch 41/50\n",
            "\u001b[1m1563/1563\u001b[0m \u001b[32m━━━━━━━━━━━━━━━━━━━━\u001b[0m\u001b[37m\u001b[0m \u001b[1m21s\u001b[0m 9ms/step - accuracy: 0.9093 - loss: 0.5815 - val_accuracy: 0.8440 - val_loss: 0.8456 - learning_rate: 6.2500e-05\n",
            "Epoch 42/50\n",
            "\u001b[1m1563/1563\u001b[0m \u001b[32m━━━━━━━━━━━━━━━━━━━━\u001b[0m\u001b[37m\u001b[0m \u001b[1m20s\u001b[0m 8ms/step - accuracy: 0.9112 - loss: 0.5605 - val_accuracy: 0.8425 - val_loss: 0.8501 - learning_rate: 6.2500e-05\n",
            "Epoch 43/50\n",
            "\u001b[1m1563/1563\u001b[0m \u001b[32m━━━━━━━━━━━━━━━━━━━━\u001b[0m\u001b[37m\u001b[0m \u001b[1m20s\u001b[0m 8ms/step - accuracy: 0.9155 - loss: 0.5494 - val_accuracy: 0.8379 - val_loss: 0.8471 - learning_rate: 6.2500e-05\n",
            "Epoch 44/50\n",
            "\u001b[1m1563/1563\u001b[0m \u001b[32m━━━━━━━━━━━━━━━━━━━━\u001b[0m\u001b[37m\u001b[0m \u001b[1m13s\u001b[0m 8ms/step - accuracy: 0.9183 - loss: 0.5412 - val_accuracy: 0.8378 - val_loss: 0.8582 - learning_rate: 6.2500e-05\n",
            "Epoch 45/50\n",
            "\u001b[1m1563/1563\u001b[0m \u001b[32m━━━━━━━━━━━━━━━━━━━━\u001b[0m\u001b[37m\u001b[0m \u001b[1m13s\u001b[0m 8ms/step - accuracy: 0.9188 - loss: 0.5285 - val_accuracy: 0.8371 - val_loss: 0.8576 - learning_rate: 6.2500e-05\n",
            "Epoch 46/50\n",
            "\u001b[1m1563/1563\u001b[0m \u001b[32m━━━━━━━━━━━━━━━━━━━━\u001b[0m\u001b[37m\u001b[0m \u001b[1m21s\u001b[0m 8ms/step - accuracy: 0.9208 - loss: 0.5216 - val_accuracy: 0.8423 - val_loss: 0.8405 - learning_rate: 6.2500e-05\n",
            "Epoch 47/50\n",
            "\u001b[1m1563/1563\u001b[0m \u001b[32m━━━━━━━━━━━━━━━━━━━━\u001b[0m\u001b[37m\u001b[0m \u001b[1m21s\u001b[0m 9ms/step - accuracy: 0.9242 - loss: 0.5097 - val_accuracy: 0.8438 - val_loss: 0.8398 - learning_rate: 6.2500e-05\n",
            "Epoch 48/50\n",
            "\u001b[1m1563/1563\u001b[0m \u001b[32m━━━━━━━━━━━━━━━━━━━━\u001b[0m\u001b[37m\u001b[0m \u001b[1m20s\u001b[0m 8ms/step - accuracy: 0.9286 - loss: 0.4998 - val_accuracy: 0.8407 - val_loss: 0.8648 - learning_rate: 6.2500e-05\n",
            "Epoch 49/50\n",
            "\u001b[1m1563/1563\u001b[0m \u001b[32m━━━━━━━━━━━━━━━━━━━━\u001b[0m\u001b[37m\u001b[0m \u001b[1m13s\u001b[0m 8ms/step - accuracy: 0.9250 - loss: 0.5068 - val_accuracy: 0.8349 - val_loss: 0.8716 - learning_rate: 6.2500e-05\n",
            "Epoch 50/50\n",
            "\u001b[1m1563/1563\u001b[0m \u001b[32m━━━━━━━━━━━━━━━━━━━━\u001b[0m\u001b[37m\u001b[0m \u001b[1m20s\u001b[0m 8ms/step - accuracy: 0.9337 - loss: 0.4762 - val_accuracy: 0.8438 - val_loss: 0.8436 - learning_rate: 3.1250e-05\n",
            "For model with l2 value ----->  0.0001\n",
            "Epoch 1/50\n",
            "\u001b[1m1563/1563\u001b[0m \u001b[32m━━━━━━━━━━━━━━━━━━━━\u001b[0m\u001b[37m\u001b[0m \u001b[1m39s\u001b[0m 16ms/step - accuracy: 0.2600 - loss: 2.5170 - val_accuracy: 0.3320 - val_loss: 2.5224 - learning_rate: 0.0010\n",
            "Epoch 2/50\n",
            "\u001b[1m1563/1563\u001b[0m \u001b[32m━━━━━━━━━━━━━━━━━━━━\u001b[0m\u001b[37m\u001b[0m \u001b[1m13s\u001b[0m 8ms/step - accuracy: 0.4339 - loss: 1.8330 - val_accuracy: 0.4260 - val_loss: 1.9671 - learning_rate: 0.0010\n",
            "Epoch 3/50\n",
            "\u001b[1m1563/1563\u001b[0m \u001b[32m━━━━━━━━━━━━━━━━━━━━\u001b[0m\u001b[37m\u001b[0m \u001b[1m13s\u001b[0m 9ms/step - accuracy: 0.5202 - loss: 1.6047 - val_accuracy: 0.5352 - val_loss: 1.6180 - learning_rate: 0.0010\n",
            "Epoch 4/50\n",
            "\u001b[1m1563/1563\u001b[0m \u001b[32m━━━━━━━━━━━━━━━━━━━━\u001b[0m\u001b[37m\u001b[0m \u001b[1m20s\u001b[0m 8ms/step - accuracy: 0.5765 - loss: 1.4657 - val_accuracy: 0.6016 - val_loss: 1.4361 - learning_rate: 0.0010\n",
            "Epoch 5/50\n",
            "\u001b[1m1563/1563\u001b[0m \u001b[32m━━━━━━━━━━━━━━━━━━━━\u001b[0m\u001b[37m\u001b[0m \u001b[1m14s\u001b[0m 9ms/step - accuracy: 0.6165 - loss: 1.3976 - val_accuracy: 0.6359 - val_loss: 1.3522 - learning_rate: 0.0010\n",
            "Epoch 6/50\n",
            "\u001b[1m1563/1563\u001b[0m \u001b[32m━━━━━━━━━━━━━━━━━━━━\u001b[0m\u001b[37m\u001b[0m \u001b[1m20s\u001b[0m 8ms/step - accuracy: 0.6462 - loss: 1.3502 - val_accuracy: 0.6834 - val_loss: 1.2630 - learning_rate: 0.0010\n",
            "Epoch 7/50\n",
            "\u001b[1m1563/1563\u001b[0m \u001b[32m━━━━━━━━━━━━━━━━━━━━\u001b[0m\u001b[37m\u001b[0m \u001b[1m13s\u001b[0m 8ms/step - accuracy: 0.6669 - loss: 1.3300 - val_accuracy: 0.6843 - val_loss: 1.2778 - learning_rate: 0.0010\n",
            "Epoch 8/50\n",
            "\u001b[1m1563/1563\u001b[0m \u001b[32m━━━━━━━━━━━━━━━━━━━━\u001b[0m\u001b[37m\u001b[0m \u001b[1m23s\u001b[0m 10ms/step - accuracy: 0.6857 - loss: 1.3041 - val_accuracy: 0.7032 - val_loss: 1.2564 - learning_rate: 0.0010\n",
            "Epoch 9/50\n",
            "\u001b[1m1563/1563\u001b[0m \u001b[32m━━━━━━━━━━━━━━━━━━━━\u001b[0m\u001b[37m\u001b[0m \u001b[1m18s\u001b[0m 8ms/step - accuracy: 0.6976 - loss: 1.2920 - val_accuracy: 0.7115 - val_loss: 1.2346 - learning_rate: 0.0010\n",
            "Epoch 10/50\n",
            "\u001b[1m1563/1563\u001b[0m \u001b[32m━━━━━━━━━━━━━━━━━━━━\u001b[0m\u001b[37m\u001b[0m \u001b[1m21s\u001b[0m 9ms/step - accuracy: 0.7328 - loss: 1.1735 - val_accuracy: 0.7530 - val_loss: 1.0742 - learning_rate: 5.0000e-04\n",
            "Epoch 11/50\n",
            "\u001b[1m1563/1563\u001b[0m \u001b[32m━━━━━━━━━━━━━━━━━━━━\u001b[0m\u001b[37m\u001b[0m \u001b[1m13s\u001b[0m 8ms/step - accuracy: 0.7498 - loss: 1.0785 - val_accuracy: 0.7551 - val_loss: 1.0486 - learning_rate: 5.0000e-04\n",
            "Epoch 12/50\n",
            "\u001b[1m1563/1563\u001b[0m \u001b[32m━━━━━━━━━━━━━━━━━━━━\u001b[0m\u001b[37m\u001b[0m \u001b[1m21s\u001b[0m 9ms/step - accuracy: 0.7606 - loss: 1.0364 - val_accuracy: 0.7622 - val_loss: 1.0460 - learning_rate: 5.0000e-04\n",
            "Epoch 13/50\n",
            "\u001b[1m1563/1563\u001b[0m \u001b[32m━━━━━━━━━━━━━━━━━━━━\u001b[0m\u001b[37m\u001b[0m \u001b[1m20s\u001b[0m 9ms/step - accuracy: 0.7703 - loss: 1.0114 - val_accuracy: 0.7680 - val_loss: 1.0260 - learning_rate: 5.0000e-04\n",
            "Epoch 14/50\n",
            "\u001b[1m1563/1563\u001b[0m \u001b[32m━━━━━━━━━━━━━━━━━━━━\u001b[0m\u001b[37m\u001b[0m \u001b[1m13s\u001b[0m 8ms/step - accuracy: 0.7769 - loss: 0.9932 - val_accuracy: 0.7743 - val_loss: 1.0026 - learning_rate: 5.0000e-04\n",
            "Epoch 15/50\n",
            "\u001b[1m1563/1563\u001b[0m \u001b[32m━━━━━━━━━━━━━━━━━━━━\u001b[0m\u001b[37m\u001b[0m \u001b[1m13s\u001b[0m 9ms/step - accuracy: 0.7855 - loss: 0.9775 - val_accuracy: 0.7777 - val_loss: 1.0197 - learning_rate: 5.0000e-04\n",
            "For model with l2 value ----->  1e-05\n",
            "Epoch 1/50\n",
            "\u001b[1m1563/1563\u001b[0m \u001b[32m━━━━━━━━━━━━━━━━━━━━\u001b[0m\u001b[37m\u001b[0m \u001b[1m40s\u001b[0m 16ms/step - accuracy: 0.2571 - loss: 2.3245 - val_accuracy: 0.3996 - val_loss: 1.7565 - learning_rate: 0.0010\n",
            "Epoch 2/50\n",
            "\u001b[1m1563/1563\u001b[0m \u001b[32m━━━━━━━━━━━━━━━━━━━━\u001b[0m\u001b[37m\u001b[0m \u001b[1m21s\u001b[0m 9ms/step - accuracy: 0.4427 - loss: 1.6264 - val_accuracy: 0.4841 - val_loss: 1.5497 - learning_rate: 0.0010\n",
            "Epoch 3/50\n",
            "\u001b[1m1563/1563\u001b[0m \u001b[32m━━━━━━━━━━━━━━━━━━━━\u001b[0m\u001b[37m\u001b[0m \u001b[1m13s\u001b[0m 9ms/step - accuracy: 0.5203 - loss: 1.4447 - val_accuracy: 0.5521 - val_loss: 1.3635 - learning_rate: 0.0010\n",
            "Epoch 4/50\n",
            "\u001b[1m1563/1563\u001b[0m \u001b[32m━━━━━━━━━━━━━━━━━━━━\u001b[0m\u001b[37m\u001b[0m \u001b[1m20s\u001b[0m 8ms/step - accuracy: 0.5747 - loss: 1.3321 - val_accuracy: 0.6308 - val_loss: 1.1883 - learning_rate: 0.0010\n",
            "Epoch 5/50\n",
            "\u001b[1m1563/1563\u001b[0m \u001b[32m━━━━━━━━━━━━━━━━━━━━\u001b[0m\u001b[37m\u001b[0m \u001b[1m13s\u001b[0m 8ms/step - accuracy: 0.6146 - loss: 1.2588 - val_accuracy: 0.6202 - val_loss: 1.2554 - learning_rate: 0.0010\n",
            "Epoch 6/50\n",
            "\u001b[1m1563/1563\u001b[0m \u001b[32m━━━━━━━━━━━━━━━━━━━━\u001b[0m\u001b[37m\u001b[0m \u001b[1m21s\u001b[0m 9ms/step - accuracy: 0.6443 - loss: 1.1998 - val_accuracy: 0.6496 - val_loss: 1.1883 - learning_rate: 0.0010\n",
            "Epoch 7/50\n",
            "\u001b[1m1563/1563\u001b[0m \u001b[32m━━━━━━━━━━━━━━━━━━━━\u001b[0m\u001b[37m\u001b[0m \u001b[1m13s\u001b[0m 8ms/step - accuracy: 0.6683 - loss: 1.1608 - val_accuracy: 0.6874 - val_loss: 1.1142 - learning_rate: 0.0010\n",
            "Epoch 8/50\n",
            "\u001b[1m1563/1563\u001b[0m \u001b[32m━━━━━━━━━━━━━━━━━━━━\u001b[0m\u001b[37m\u001b[0m \u001b[1m13s\u001b[0m 8ms/step - accuracy: 0.6875 - loss: 1.1296 - val_accuracy: 0.6949 - val_loss: 1.1277 - learning_rate: 0.0010\n",
            "Epoch 9/50\n",
            "\u001b[1m1563/1563\u001b[0m \u001b[32m━━━━━━━━━━━━━━━━━━━━\u001b[0m\u001b[37m\u001b[0m \u001b[1m21s\u001b[0m 9ms/step - accuracy: 0.7052 - loss: 1.0984 - val_accuracy: 0.6998 - val_loss: 1.1209 - learning_rate: 0.0010\n",
            "Epoch 10/50\n",
            "\u001b[1m1563/1563\u001b[0m \u001b[32m━━━━━━━━━━━━━━━━━━━━\u001b[0m\u001b[37m\u001b[0m \u001b[1m21s\u001b[0m 9ms/step - accuracy: 0.7407 - loss: 0.9989 - val_accuracy: 0.7758 - val_loss: 0.8806 - learning_rate: 5.0000e-04\n",
            "Epoch 11/50\n",
            "\u001b[1m1563/1563\u001b[0m \u001b[32m━━━━━━━━━━━━━━━━━━━━\u001b[0m\u001b[37m\u001b[0m \u001b[1m13s\u001b[0m 8ms/step - accuracy: 0.7642 - loss: 0.9135 - val_accuracy: 0.7831 - val_loss: 0.8612 - learning_rate: 5.0000e-04\n",
            "Epoch 12/50\n",
            "\u001b[1m1563/1563\u001b[0m \u001b[32m━━━━━━━━━━━━━━━━━━━━\u001b[0m\u001b[37m\u001b[0m \u001b[1m13s\u001b[0m 8ms/step - accuracy: 0.7725 - loss: 0.8805 - val_accuracy: 0.7900 - val_loss: 0.8294 - learning_rate: 5.0000e-04\n",
            "Epoch 13/50\n",
            "\u001b[1m1563/1563\u001b[0m \u001b[32m━━━━━━━━━━━━━━━━━━━━\u001b[0m\u001b[37m\u001b[0m \u001b[1m13s\u001b[0m 8ms/step - accuracy: 0.7805 - loss: 0.8563 - val_accuracy: 0.7898 - val_loss: 0.8383 - learning_rate: 5.0000e-04\n",
            "Epoch 14/50\n",
            "\u001b[1m1563/1563\u001b[0m \u001b[32m━━━━━━━━━━━━━━━━━━━━\u001b[0m\u001b[37m\u001b[0m \u001b[1m21s\u001b[0m 9ms/step - accuracy: 0.7918 - loss: 0.8282 - val_accuracy: 0.7698 - val_loss: 0.9129 - learning_rate: 5.0000e-04\n",
            "Epoch 15/50\n",
            "\u001b[1m1563/1563\u001b[0m \u001b[32m━━━━━━━━━━━━━━━━━━━━\u001b[0m\u001b[37m\u001b[0m \u001b[1m20s\u001b[0m 9ms/step - accuracy: 0.7976 - loss: 0.8148 - val_accuracy: 0.7982 - val_loss: 0.8290 - learning_rate: 5.0000e-04\n",
            "For model with l2 value ----->  1e-06\n",
            "Epoch 1/50\n",
            "\u001b[1m1563/1563\u001b[0m \u001b[32m━━━━━━━━━━━━━━━━━━━━\u001b[0m\u001b[37m\u001b[0m \u001b[1m44s\u001b[0m 17ms/step - accuracy: 0.2640 - loss: 2.2844 - val_accuracy: 0.3562 - val_loss: 1.9479 - learning_rate: 0.0010\n",
            "Epoch 2/50\n",
            "\u001b[1m1563/1563\u001b[0m \u001b[32m━━━━━━━━━━━━━━━━━━━━\u001b[0m\u001b[37m\u001b[0m \u001b[1m14s\u001b[0m 9ms/step - accuracy: 0.4373 - loss: 1.6134 - val_accuracy: 0.4163 - val_loss: 1.8440 - learning_rate: 0.0010\n",
            "Epoch 3/50\n",
            "\u001b[1m1563/1563\u001b[0m \u001b[32m━━━━━━━━━━━━━━━━━━━━\u001b[0m\u001b[37m\u001b[0m \u001b[1m21s\u001b[0m 9ms/step - accuracy: 0.5240 - loss: 1.4060 - val_accuracy: 0.5602 - val_loss: 1.3591 - learning_rate: 0.0010\n",
            "Epoch 4/50\n",
            "\u001b[1m1563/1563\u001b[0m \u001b[32m━━━━━━━━━━━━━━━━━━━━\u001b[0m\u001b[37m\u001b[0m \u001b[1m20s\u001b[0m 9ms/step - accuracy: 0.5805 - loss: 1.2814 - val_accuracy: 0.6410 - val_loss: 1.1230 - learning_rate: 0.0010\n",
            "Epoch 5/50\n",
            "\u001b[1m1563/1563\u001b[0m \u001b[32m━━━━━━━━━━━━━━━━━━━━\u001b[0m\u001b[37m\u001b[0m \u001b[1m21s\u001b[0m 9ms/step - accuracy: 0.6241 - loss: 1.1910 - val_accuracy: 0.6404 - val_loss: 1.1488 - learning_rate: 0.0010\n",
            "Epoch 6/50\n",
            "\u001b[1m1563/1563\u001b[0m \u001b[32m━━━━━━━━━━━━━━━━━━━━\u001b[0m\u001b[37m\u001b[0m \u001b[1m14s\u001b[0m 9ms/step - accuracy: 0.6576 - loss: 1.1356 - val_accuracy: 0.6619 - val_loss: 1.1453 - learning_rate: 0.0010\n",
            "Epoch 7/50\n",
            "\u001b[1m1563/1563\u001b[0m \u001b[32m━━━━━━━━━━━━━━━━━━━━\u001b[0m\u001b[37m\u001b[0m \u001b[1m14s\u001b[0m 9ms/step - accuracy: 0.6825 - loss: 1.0838 - val_accuracy: 0.7145 - val_loss: 0.9948 - learning_rate: 0.0010\n",
            "Epoch 8/50\n",
            "\u001b[1m1563/1563\u001b[0m \u001b[32m━━━━━━━━━━━━━━━━━━━━\u001b[0m\u001b[37m\u001b[0m \u001b[1m14s\u001b[0m 9ms/step - accuracy: 0.6998 - loss: 1.0470 - val_accuracy: 0.6979 - val_loss: 1.0601 - learning_rate: 0.0010\n",
            "Epoch 9/50\n",
            "\u001b[1m1563/1563\u001b[0m \u001b[32m━━━━━━━━━━━━━━━━━━━━\u001b[0m\u001b[37m\u001b[0m \u001b[1m14s\u001b[0m 9ms/step - accuracy: 0.7158 - loss: 1.0185 - val_accuracy: 0.7337 - val_loss: 0.9657 - learning_rate: 0.0010\n",
            "Epoch 10/50\n",
            "\u001b[1m1563/1563\u001b[0m \u001b[32m━━━━━━━━━━━━━━━━━━━━\u001b[0m\u001b[37m\u001b[0m \u001b[1m13s\u001b[0m 8ms/step - accuracy: 0.7517 - loss: 0.9155 - val_accuracy: 0.7779 - val_loss: 0.8317 - learning_rate: 5.0000e-04\n",
            "Epoch 11/50\n",
            "\u001b[1m1563/1563\u001b[0m \u001b[32m━━━━━━━━━━━━━━━━━━━━\u001b[0m\u001b[37m\u001b[0m \u001b[1m13s\u001b[0m 9ms/step - accuracy: 0.7684 - loss: 0.8446 - val_accuracy: 0.7876 - val_loss: 0.7851 - learning_rate: 5.0000e-04\n",
            "Epoch 12/50\n",
            "\u001b[1m1563/1563\u001b[0m \u001b[32m━━━━━━━━━━━━━━━━━━━━\u001b[0m\u001b[37m\u001b[0m \u001b[1m13s\u001b[0m 9ms/step - accuracy: 0.7806 - loss: 0.8124 - val_accuracy: 0.7911 - val_loss: 0.7877 - learning_rate: 5.0000e-04\n",
            "Epoch 13/50\n",
            "\u001b[1m1563/1563\u001b[0m \u001b[32m━━━━━━━━━━━━━━━━━━━━\u001b[0m\u001b[37m\u001b[0m \u001b[1m13s\u001b[0m 9ms/step - accuracy: 0.7915 - loss: 0.7759 - val_accuracy: 0.7805 - val_loss: 0.8325 - learning_rate: 5.0000e-04\n",
            "Epoch 14/50\n",
            "\u001b[1m1563/1563\u001b[0m \u001b[32m━━━━━━━━━━━━━━━━━━━━\u001b[0m\u001b[37m\u001b[0m \u001b[1m21s\u001b[0m 9ms/step - accuracy: 0.7973 - loss: 0.7549 - val_accuracy: 0.7950 - val_loss: 0.7871 - learning_rate: 5.0000e-04\n",
            "Epoch 15/50\n",
            "\u001b[1m1563/1563\u001b[0m \u001b[32m━━━━━━━━━━━━━━━━━━━━\u001b[0m\u001b[37m\u001b[0m \u001b[1m13s\u001b[0m 9ms/step - accuracy: 0.8068 - loss: 0.7401 - val_accuracy: 0.7968 - val_loss: 0.7867 - learning_rate: 5.0000e-04\n"
          ]
        },
        {
          "output_type": "display_data",
          "data": {
            "text/plain": [
              "<Figure size 1200x500 with 2 Axes>"
            ],
            "image/png": "[encoded data removed]"
          },
          "metadata": {}
        },
        {
          "output_type": "stream",
          "name": "stdout",
          "text": [
            "Best L2 Value: 0.001\n",
            "Best Validation Accuracy: 0.8440\n",
            "\u001b[1m313/313\u001b[0m \u001b[32m━━━━━━━━━━━━━━━━━━━━\u001b[0m\u001b[37m\u001b[0m \u001b[1m1s\u001b[0m 4ms/step - accuracy: 0.7508 - loss: 1.2955\n",
            "Best L2 Value: 0.001\n",
            "Test Accuracy: 0.7461000084877014\n",
            "CPU times: user 22min 48s, sys: 45.9 s, total: 23min 34s\n",
            "Wall time: 29min 11s\n"
          ]
        }
      ]
    },
    {
      "cell_type": "markdown",
      "source": [
        "# Running experiments to figure out the best values for hyper-parameters for Model-3"
      ],
      "metadata": {
        "id": "Bjr87NPtkDgx"
      }
    },
    {
      "cell_type": "markdown",
      "source": [
        "# Model 3 Architecture"
      ],
      "metadata": {
        "id": "srTkJbuYkDgx"
      }
    },
    {
      "cell_type": "markdown",
      "source": [
        "#### Function for creating data augmentation"
      ],
      "metadata": {
        "id": "KpynHarTa3gW"
      }
    },
    {
      "cell_type": "code",
      "source": [
        "datagen = ImageDataGenerator(\n",
        "    rotation_range=20,\n",
        "    width_shift_range=0.2,\n",
        "    height_shift_range=0.2,\n",
        "    shear_range=0.2,\n",
        "    zoom_range=0.2,\n",
        "    horizontal_flip=True,\n",
        "    fill_mode='nearest'\n",
        ")\n",
        "\n",
        "train_generator = datagen.flow(X_train, Y_train, batch_size=BATCH_SIZE)\n"
      ],
      "metadata": {
        "id": "R0GS7sdJa3lI"
      },
      "execution_count": null,
      "outputs": []
    },
    {
      "cell_type": "markdown",
      "source": [
        "### Function to create models with given parameters"
      ],
      "metadata": {
        "id": "swyhV5BekDgx"
      }
    },
    {
      "cell_type": "code",
      "source": [
        "def create_model_with_l2_arch_3(input_shape, num_classes, l2_value):\n",
        "\n",
        "    # Input layer\n",
        "    inputs = layers.Input(shape=INPUT_SHAPE)\n",
        "\n",
        "    # Initial convolution\n",
        "    x = layers.Conv2D(filters=32, kernel_size=(3, 3), padding='same',kernel_regularizer=regularizers.l2(l2_value))(inputs)\n",
        "    x = layers.BatchNormalization()(x)\n",
        "    x = layers.Activation('relu')(x)\n",
        "\n",
        "    # First Residual Block\n",
        "    residual = layers.Conv2D(filters=64, kernel_size=(1, 1), padding='same',kernel_regularizer=regularizers.l2(l2_value))(x)\n",
        "\n",
        "    x = layers.Conv2D(filters=64, kernel_size=(3, 3), padding='same',kernel_regularizer=regularizers.l2(l2_value))(x)\n",
        "    x = layers.BatchNormalization()(x)\n",
        "    x = layers.Activation('relu')(x)\n",
        "\n",
        "    x = layers.Conv2D(filters=64, kernel_size=(3, 3), padding='same',kernel_regularizer=regularizers.l2(l2_value))(x)\n",
        "    x = layers.BatchNormalization()(x)\n",
        "\n",
        "    # Merging the first residual connection with the convolution layer\n",
        "    x = layers.Add()([x, residual])\n",
        "    x = layers.Activation('relu')(x)\n",
        "    x = layers.MaxPooling2D((2, 2))(x)\n",
        "    x = layers.Dropout(0.25)(x)\n",
        "\n",
        "    # Second Residual Block\n",
        "    residual = layers.Conv2D(filters=128, kernel_size=(1, 1), padding='same',kernel_regularizer=regularizers.l2(l2_value))(x)\n",
        "\n",
        "    x = layers.Conv2D(filters=128,kernel_size=(3, 3), padding='same',kernel_regularizer=regularizers.l2(l2_value))(x)\n",
        "    x = layers.BatchNormalization()(x)\n",
        "    x = layers.Activation('relu')(x)\n",
        "\n",
        "    x = layers.Conv2D(filters=128, kernel_size=(3, 3), padding='same',kernel_regularizer=regularizers.l2(l2_value))(x)\n",
        "    x = layers.BatchNormalization()(x)\n",
        "\n",
        "    # Merging the second residual connection with the convolution layer\n",
        "    x = layers.Add()([x, residual])\n",
        "    x = layers.Activation('relu')(x)\n",
        "    x = layers.MaxPooling2D((2, 2))(x)\n",
        "    x = layers.Dropout(0.35)(x)\n",
        "\n",
        "    # Third Residual Block\n",
        "    residual = layers.Conv2D(filters=256,kernel_size= (1, 1), padding='same',kernel_regularizer=regularizers.l2(l2_value))(x)\n",
        "\n",
        "    x = layers.Conv2D(filters=256,kernel_size= (3, 3), padding='same',kernel_regularizer=regularizers.l2(l2_value))(x)\n",
        "    x = layers.BatchNormalization()(x)\n",
        "    x = layers.Activation('relu')(x)\n",
        "\n",
        "    x = layers.Conv2D(filters=256,kernel_size= (3, 3), padding='same',kernel_regularizer=regularizers.l2(l2_value))(x)\n",
        "    x = layers.BatchNormalization()(x)\n",
        "\n",
        "    # Merging the third residual connection with the convolution layer\n",
        "    x = layers.Add()([x, residual])\n",
        "    x = layers.Activation('relu')(x)\n",
        "    x = layers.MaxPooling2D((2, 2))(x)\n",
        "    x = layers.Dropout(0.4)(x)\n",
        "\n",
        "    # Fully Connected Layers for classification\n",
        "    x = layers.Flatten()(x)\n",
        "    x = layers.Dense(1024, activation='relu',kernel_regularizer=regularizers.l2(l2_value))(x)\n",
        "    x = layers.BatchNormalization()(x)\n",
        "    x = layers.Dropout(0.5)(x)\n",
        "    x = layers.Dense(512, activation='relu',kernel_regularizer=regularizers.l2(l2_value))(x)\n",
        "    x = layers.BatchNormalization()(x)\n",
        "    x = layers.Dropout(0.5)(x)\n",
        "\n",
        "    # Output layer\n",
        "    outputs = layers.Dense(N_CLASSES, activation='softmax')(x)\n",
        "\n",
        "    # Creating model\n",
        "    model = tf.keras.Model(inputs=inputs, outputs=outputs)\n",
        "\n",
        "    # Compiling model\n",
        "    model.compile(\n",
        "        optimizer=tf.keras.optimizers.Adam(learning_rate=0.001),\n",
        "        loss='sparse_categorical_crossentropy',\n",
        "        metrics=['accuracy']\n",
        "    )\n",
        "\n",
        "    return model"
      ],
      "metadata": {
        "id": "3Muv1r9XkDgx"
      },
      "execution_count": null,
      "outputs": []
    },
    {
      "cell_type": "markdown",
      "source": [
        "### Function to train the model with different hyper-parameter values"
      ],
      "metadata": {
        "id": "x4Nn2r5WkDgy"
      }
    },
    {
      "cell_type": "code",
      "source": [
        "def train_model_with_l2_arch_3(model, train_generator, X_val, Y_val, epochs=50, batch_size=32):\n",
        "\n",
        "    # Learning rate schedule for the optimizer\n",
        "    def lr_schedule(epoch):\n",
        "        initial_lr = 0.001\n",
        "        drop = 0.5\n",
        "        epochs_drop = 10.0\n",
        "        lr = initial_lr * np.power(drop, np.floor((1+epoch)/epochs_drop))\n",
        "        return lr\n",
        "\n",
        "    # Training the model\n",
        "    history = model.fit(train_generator, batch_size=batch_size,\n",
        "                        epochs=epochs,\n",
        "                        validation_data=(X_val, Y_val),\n",
        "                        callbacks=[early_stopping,tf.keras.callbacks.LearningRateScheduler(lr_schedule)],\n",
        "                        verbose=1\n",
        "    )\n",
        "\n",
        "    return model, history"
      ],
      "metadata": {
        "id": "t8bwy7nSkDgy"
      },
      "execution_count": null,
      "outputs": []
    },
    {
      "cell_type": "markdown",
      "source": [
        "### Function for Results Visualization"
      ],
      "metadata": {
        "id": "KHeaVOAlkDgy"
      }
    },
    {
      "cell_type": "code",
      "source": [
        "def plot_l2_results_arch_3(results):\n",
        "\n",
        "    plt.figure(figsize=(12, 5))\n",
        "\n",
        "    # Comparing the Validation Accuracy\n",
        "    plt.subplot(1, 2, 1)\n",
        "    plt.title('Validation Accuracy for Different L2 Values')\n",
        "    plt.bar(\n",
        "        [str(l2) for l2 in results.keys()],\n",
        "        [results[l2]['val_accuracy'] for l2 in results.keys()]\n",
        "    )\n",
        "    plt.ylabel('Validation Accuracy')\n",
        "    plt.xlabel('L2 Regularization Value')\n",
        "    plt.xticks(rotation=45)\n",
        "\n",
        "    # Finding best L2 value\n",
        "    best_l2 = max(results, key=lambda k: results[k]['val_accuracy'])\n",
        "    best_result = results[best_l2]\n",
        "\n",
        "    # Training History for Best Model\n",
        "    plt.subplot(1, 2, 2)\n",
        "    plt.title(f'Training History (Best L2: {best_l2})')\n",
        "    plt.plot(best_result['history'].history['accuracy'], label='Training Accuracy')\n",
        "    plt.plot(best_result['history'].history['val_accuracy'], label='Validation Accuracy')\n",
        "    plt.xlabel('Epoch')\n",
        "    plt.ylabel('Accuracy')\n",
        "    plt.legend()\n",
        "\n",
        "    plt.tight_layout()\n",
        "    plt.show()\n",
        "\n",
        "    # Printing the best result details\n",
        "    print(f\"Best L2 Value: {best_l2}\")\n",
        "    print(f\"Best Validation Accuracy: {best_result['val_accuracy']:.4f}\")"
      ],
      "metadata": {
        "id": "rzcqtP84kDgy"
      },
      "execution_count": null,
      "outputs": []
    },
    {
      "cell_type": "markdown",
      "source": [
        "### Main L2 Regularization Tuning Function"
      ],
      "metadata": {
        "id": "gTaMVdTtkDgy"
      }
    },
    {
      "cell_type": "code",
      "source": [
        "def tune_l2_regularization_arch_3(train_generator, X_val, Y_val, input_shape, num_classes, l2_values):\n",
        "    \"\"\"\n",
        "    Tune L2 regularization hyperparameter\n",
        "\n",
        "    Parameters:\n",
        "    - X_train, Y_train: Training data and labels\n",
        "    - X_val, Y_val: Validation data and labels\n",
        "    - input_shape: Shape of input images\n",
        "    - num_classes: Number of classification classes\n",
        "    - l2_values: List of L2 regularization values to try\n",
        "\n",
        "    Returns:\n",
        "    - Dictionary of results for different L2 values\n",
        "    \"\"\"\n",
        "    # Dictionary to store results\n",
        "    results = {}\n",
        "\n",
        "    # Try each L2 value\n",
        "    for l2_value in l2_values:\n",
        "        # Clearing the previous model and session to prevent any memory erros\n",
        "        tf.keras.backend.clear_session()\n",
        "        print(f'For model with l2 value -----> ',l2_value)\n",
        "        # Creating the  model\n",
        "        model = create_model_with_l2_arch_3(input_shape, num_classes, l2_value)\n",
        "\n",
        "        # Training the model\n",
        "        trained_model, history = train_model_with_l2_arch_3(model, train_generator, X_val, Y_val)\n",
        "\n",
        "        # Evaluating the  model\n",
        "        val_loss, val_accuracy = trained_model.evaluate(X_val, Y_val, verbose=0)\n",
        "\n",
        "        # Storing the results\n",
        "        results[l2_value] = {\n",
        "            'model': trained_model,\n",
        "            'val_accuracy': val_accuracy,\n",
        "            'val_loss': val_loss,\n",
        "            'history': history\n",
        "        }\n",
        "\n",
        "    # Visualizing the results\n",
        "    plot_l2_results_arch_3(results)\n",
        "\n",
        "    return results"
      ],
      "metadata": {
        "id": "TdE6f9takDgy"
      },
      "execution_count": null,
      "outputs": []
    },
    {
      "cell_type": "markdown",
      "source": [
        "## Running the test"
      ],
      "metadata": {
        "id": "oBKf3YmXkDgy"
      }
    },
    {
      "cell_type": "code",
      "source": [
        "%%time\n",
        "\n",
        "# Running the L2 regularization tuning\n",
        "results = tune_l2_regularization_arch_3(\n",
        "   train_generator,\n",
        "    X_val, Y_val,\n",
        "    input_shape=INPUT_SHAPE,\n",
        "    num_classes=N_CLASSES,\n",
        "    l2_values=l2_values\n",
        ")\n",
        "\n",
        "# Finding the L2 value with the highest validation accuracy\n",
        "best_l2 = max(results, key=lambda k: results[k]['val_accuracy'])\n",
        "best_model = results[best_l2]['model']\n",
        "\n",
        "# Using the best model for evaluation\n",
        "test_loss, test_accuracy = best_model.evaluate(X_test, Y_test)\n",
        "print(f\"Best L2 Value: {best_l2}\")\n",
        "print(f\"Test Accuracy: {test_accuracy}\")"
      ],
      "metadata": {
        "colab": {
          "base_uri": "https://localhost:8080/",
          "height": 1000
        },
        "outputId": "97022138-be21-4e04-fc0a-9d3509cc2a3d",
        "id": "v9pUHPv1kDgz"
      },
      "execution_count": null,
      "outputs": [
        {
          "output_type": "stream",
          "name": "stdout",
          "text": [
            "For model with l2 value ----->  0.001\n",
            "Epoch 1/50\n"
          ]
        },
        {
          "output_type": "stream",
          "name": "stderr",
          "text": [
            "/usr/local/lib/python3.10/dist-packages/keras/src/trainers/data_adapters/py_dataset_adapter.py:122: UserWarning: Your `PyDataset` class should call `super().__init__(**kwargs)` in its constructor. `**kwargs` can include `workers`, `use_multiprocessing`, `max_queue_size`. Do not pass these arguments to `fit()`, as they will be ignored.\n",
            "  self._warn_if_super_not_called()\n"
          ]
        },
        {
          "output_type": "stream",
          "name": "stdout",
          "text": [
            "\u001b[1m1250/1250\u001b[0m \u001b[32m━━━━━━━━━━━━━━━━━━━━\u001b[0m\u001b[37m\u001b[0m \u001b[1m61s\u001b[0m 34ms/step - accuracy: 0.2441 - loss: 5.3933 - val_accuracy: 0.3930 - val_loss: 3.1120 - learning_rate: 0.0010\n",
            "Epoch 2/50\n",
            "\u001b[1m1250/1250\u001b[0m \u001b[32m━━━━━━━━━━━━━━━━━━━━\u001b[0m\u001b[37m\u001b[0m \u001b[1m64s\u001b[0m 29ms/step - accuracy: 0.4202 - loss: 2.8610 - val_accuracy: 0.3792 - val_loss: 2.7422 - learning_rate: 0.0010\n",
            "Epoch 3/50\n",
            "\u001b[1m1250/1250\u001b[0m \u001b[32m━━━━━━━━━━━━━━━━━━━━\u001b[0m\u001b[37m\u001b[0m \u001b[1m41s\u001b[0m 29ms/step - accuracy: 0.4732 - loss: 2.2343 - val_accuracy: 0.4810 - val_loss: 2.3719 - learning_rate: 0.0010\n",
            "Epoch 4/50\n",
            "\u001b[1m1250/1250\u001b[0m \u001b[32m━━━━━━━━━━━━━━━━━━━━\u001b[0m\u001b[37m\u001b[0m \u001b[1m41s\u001b[0m 29ms/step - accuracy: 0.5099 - loss: 2.0956 - val_accuracy: 0.4450 - val_loss: 2.5868 - learning_rate: 0.0010\n",
            "Epoch 5/50\n",
            "\u001b[1m1250/1250\u001b[0m \u001b[32m━━━━━━━━━━━━━━━━━━━━\u001b[0m\u001b[37m\u001b[0m \u001b[1m37s\u001b[0m 30ms/step - accuracy: 0.5353 - loss: 2.0642 - val_accuracy: 0.4872 - val_loss: 2.3412 - learning_rate: 0.0010\n",
            "Epoch 6/50\n",
            "\u001b[1m1250/1250\u001b[0m \u001b[32m━━━━━━━━━━━━━━━━━━━━\u001b[0m\u001b[37m\u001b[0m \u001b[1m39s\u001b[0m 28ms/step - accuracy: 0.5527 - loss: 1.9840 - val_accuracy: 0.4573 - val_loss: 2.4197 - learning_rate: 0.0010\n",
            "Epoch 7/50\n",
            "\u001b[1m1250/1250\u001b[0m \u001b[32m━━━━━━━━━━━━━━━━━━━━\u001b[0m\u001b[37m\u001b[0m \u001b[1m36s\u001b[0m 29ms/step - accuracy: 0.5561 - loss: 1.9592 - val_accuracy: 0.6276 - val_loss: 1.6943 - learning_rate: 0.0010\n",
            "Epoch 8/50\n",
            "\u001b[1m1250/1250\u001b[0m \u001b[32m━━━━━━━━━━━━━━━━━━━━\u001b[0m\u001b[37m\u001b[0m \u001b[1m37s\u001b[0m 29ms/step - accuracy: 0.5615 - loss: 1.9169 - val_accuracy: 0.6433 - val_loss: 1.6825 - learning_rate: 0.0010\n",
            "Epoch 9/50\n",
            "\u001b[1m1250/1250\u001b[0m \u001b[32m━━━━━━━━━━━━━━━━━━━━\u001b[0m\u001b[37m\u001b[0m \u001b[1m38s\u001b[0m 30ms/step - accuracy: 0.5772 - loss: 1.8738 - val_accuracy: 0.5723 - val_loss: 1.9814 - learning_rate: 0.0010\n",
            "Epoch 10/50\n",
            "\u001b[1m1250/1250\u001b[0m \u001b[32m━━━━━━━━━━━━━━━━━━━━\u001b[0m\u001b[37m\u001b[0m \u001b[1m37s\u001b[0m 29ms/step - accuracy: 0.6376 - loss: 1.6362 - val_accuracy: 0.6460 - val_loss: 1.5812 - learning_rate: 5.0000e-04\n",
            "Epoch 11/50\n",
            "\u001b[1m1250/1250\u001b[0m \u001b[32m━━━━━━━━━━━━━━━━━━━━\u001b[0m\u001b[37m\u001b[0m \u001b[1m36s\u001b[0m 29ms/step - accuracy: 0.6631 - loss: 1.4864 - val_accuracy: 0.6432 - val_loss: 1.5057 - learning_rate: 5.0000e-04\n",
            "Epoch 12/50\n",
            "\u001b[1m1250/1250\u001b[0m \u001b[32m━━━━━━━━━━━━━━━━━━━━\u001b[0m\u001b[37m\u001b[0m \u001b[1m35s\u001b[0m 28ms/step - accuracy: 0.6708 - loss: 1.4475 - val_accuracy: 0.6732 - val_loss: 1.5026 - learning_rate: 5.0000e-04\n",
            "Epoch 13/50\n",
            "\u001b[1m1250/1250\u001b[0m \u001b[32m━━━━━━━━━━━━━━━━━━━━\u001b[0m\u001b[37m\u001b[0m \u001b[1m42s\u001b[0m 29ms/step - accuracy: 0.6810 - loss: 1.4255 - val_accuracy: 0.6716 - val_loss: 1.4771 - learning_rate: 5.0000e-04\n",
            "Epoch 14/50\n",
            "\u001b[1m1250/1250\u001b[0m \u001b[32m━━━━━━━━━━━━━━━━━━━━\u001b[0m\u001b[37m\u001b[0m \u001b[1m42s\u001b[0m 30ms/step - accuracy: 0.6800 - loss: 1.4146 - val_accuracy: 0.7397 - val_loss: 1.2668 - learning_rate: 5.0000e-04\n",
            "Epoch 15/50\n",
            "\u001b[1m1250/1250\u001b[0m \u001b[32m━━━━━━━━━━━━━━━━━━━━\u001b[0m\u001b[37m\u001b[0m \u001b[1m40s\u001b[0m 29ms/step - accuracy: 0.6903 - loss: 1.3936 - val_accuracy: 0.6695 - val_loss: 1.4840 - learning_rate: 5.0000e-04\n",
            "Epoch 16/50\n",
            "\u001b[1m1250/1250\u001b[0m \u001b[32m━━━━━━━━━━━━━━━━━━━━\u001b[0m\u001b[37m\u001b[0m \u001b[1m37s\u001b[0m 29ms/step - accuracy: 0.6981 - loss: 1.3723 - val_accuracy: 0.6109 - val_loss: 1.6946 - learning_rate: 5.0000e-04\n",
            "Epoch 17/50\n",
            "\u001b[1m1250/1250\u001b[0m \u001b[32m━━━━━━━━━━━━━━━━━━━━\u001b[0m\u001b[37m\u001b[0m \u001b[1m41s\u001b[0m 29ms/step - accuracy: 0.7039 - loss: 1.3592 - val_accuracy: 0.7430 - val_loss: 1.2462 - learning_rate: 5.0000e-04\n",
            "Epoch 18/50\n",
            "\u001b[1m1250/1250\u001b[0m \u001b[32m━━━━━━━━━━━━━━━━━━━━\u001b[0m\u001b[37m\u001b[0m \u001b[1m38s\u001b[0m 31ms/step - accuracy: 0.7122 - loss: 1.3397 - val_accuracy: 0.7479 - val_loss: 1.2212 - learning_rate: 5.0000e-04\n",
            "Epoch 19/50\n",
            "\u001b[1m1250/1250\u001b[0m \u001b[32m━━━━━━━━━━━━━━━━━━━━\u001b[0m\u001b[37m\u001b[0m \u001b[1m38s\u001b[0m 28ms/step - accuracy: 0.7119 - loss: 1.3462 - val_accuracy: 0.7070 - val_loss: 1.3434 - learning_rate: 5.0000e-04\n",
            "Epoch 20/50\n",
            "\u001b[1m1250/1250\u001b[0m \u001b[32m━━━━━━━━━━━━━━━━━━━━\u001b[0m\u001b[37m\u001b[0m \u001b[1m42s\u001b[0m 29ms/step - accuracy: 0.7337 - loss: 1.2326 - val_accuracy: 0.7766 - val_loss: 1.0706 - learning_rate: 2.5000e-04\n",
            "Epoch 21/50\n",
            "\u001b[1m1250/1250\u001b[0m \u001b[32m━━━━━━━━━━━━━━━━━━━━\u001b[0m\u001b[37m\u001b[0m \u001b[1m43s\u001b[0m 30ms/step - accuracy: 0.7528 - loss: 1.1325 - val_accuracy: 0.8024 - val_loss: 0.9455 - learning_rate: 2.5000e-04\n",
            "Epoch 22/50\n",
            "\u001b[1m1250/1250\u001b[0m \u001b[32m━━━━━━━━━━━━━━━━━━━━\u001b[0m\u001b[37m\u001b[0m \u001b[1m41s\u001b[0m 30ms/step - accuracy: 0.7565 - loss: 1.0978 - val_accuracy: 0.7923 - val_loss: 1.0050 - learning_rate: 2.5000e-04\n",
            "Epoch 23/50\n",
            "\u001b[1m1250/1250\u001b[0m \u001b[32m━━━━━━━━━━━━━━━━━━━━\u001b[0m\u001b[37m\u001b[0m \u001b[1m36s\u001b[0m 29ms/step - accuracy: 0.7575 - loss: 1.0724 - val_accuracy: 0.7867 - val_loss: 1.0078 - learning_rate: 2.5000e-04\n",
            "Epoch 24/50\n",
            "\u001b[1m1250/1250\u001b[0m \u001b[32m━━━━━━━━━━━━━━━━━━━━\u001b[0m\u001b[37m\u001b[0m \u001b[1m37s\u001b[0m 29ms/step - accuracy: 0.7607 - loss: 1.0707 - val_accuracy: 0.7939 - val_loss: 0.9624 - learning_rate: 2.5000e-04\n",
            "Epoch 25/50\n",
            "\u001b[1m1250/1250\u001b[0m \u001b[32m━━━━━━━━━━━━━━━━━━━━\u001b[0m\u001b[37m\u001b[0m \u001b[1m35s\u001b[0m 28ms/step - accuracy: 0.7668 - loss: 1.0552 - val_accuracy: 0.7910 - val_loss: 0.9750 - learning_rate: 2.5000e-04\n",
            "Epoch 26/50\n",
            "\u001b[1m1250/1250\u001b[0m \u001b[32m━━━━━━━━━━━━━━━━━━━━\u001b[0m\u001b[37m\u001b[0m \u001b[1m36s\u001b[0m 29ms/step - accuracy: 0.7693 - loss: 1.0408 - val_accuracy: 0.8324 - val_loss: 0.8434 - learning_rate: 2.5000e-04\n",
            "Epoch 27/50\n",
            "\u001b[1m1250/1250\u001b[0m \u001b[32m━━━━━━━━━━━━━━━━━━━━\u001b[0m\u001b[37m\u001b[0m \u001b[1m37s\u001b[0m 30ms/step - accuracy: 0.7717 - loss: 1.0328 - val_accuracy: 0.8044 - val_loss: 0.9532 - learning_rate: 2.5000e-04\n",
            "Epoch 28/50\n",
            "\u001b[1m1250/1250\u001b[0m \u001b[32m━━━━━━━━━━━━━━━━━━━━\u001b[0m\u001b[37m\u001b[0m \u001b[1m36s\u001b[0m 29ms/step - accuracy: 0.7715 - loss: 1.0264 - val_accuracy: 0.7558 - val_loss: 1.0998 - learning_rate: 2.5000e-04\n",
            "Epoch 29/50\n",
            "\u001b[1m1250/1250\u001b[0m \u001b[32m━━━━━━━━━━━━━━━━━━━━\u001b[0m\u001b[37m\u001b[0m \u001b[1m35s\u001b[0m 28ms/step - accuracy: 0.7700 - loss: 1.0279 - val_accuracy: 0.7911 - val_loss: 0.9710 - learning_rate: 2.5000e-04\n",
            "Epoch 30/50\n",
            "\u001b[1m1250/1250\u001b[0m \u001b[32m━━━━━━━━━━━━━━━━━━━━\u001b[0m\u001b[37m\u001b[0m \u001b[1m42s\u001b[0m 29ms/step - accuracy: 0.7886 - loss: 0.9733 - val_accuracy: 0.8584 - val_loss: 0.7379 - learning_rate: 1.2500e-04\n",
            "Epoch 31/50\n",
            "\u001b[1m1250/1250\u001b[0m \u001b[32m━━━━━━━━━━━━━━━━━━━━\u001b[0m\u001b[37m\u001b[0m \u001b[1m36s\u001b[0m 29ms/step - accuracy: 0.8007 - loss: 0.9144 - val_accuracy: 0.8380 - val_loss: 0.7807 - learning_rate: 1.2500e-04\n",
            "Epoch 32/50\n",
            "\u001b[1m1250/1250\u001b[0m \u001b[32m━━━━━━━━━━━━━━━━━━━━\u001b[0m\u001b[37m\u001b[0m \u001b[1m36s\u001b[0m 29ms/step - accuracy: 0.8029 - loss: 0.8904 - val_accuracy: 0.8461 - val_loss: 0.7349 - learning_rate: 1.2500e-04\n",
            "Epoch 33/50\n",
            "\u001b[1m1250/1250\u001b[0m \u001b[32m━━━━━━━━━━━━━━━━━━━━\u001b[0m\u001b[37m\u001b[0m \u001b[1m36s\u001b[0m 29ms/step - accuracy: 0.8053 - loss: 0.8667 - val_accuracy: 0.8624 - val_loss: 0.6785 - learning_rate: 1.2500e-04\n",
            "Epoch 34/50\n",
            "\u001b[1m1250/1250\u001b[0m \u001b[32m━━━━━━━━━━━━━━━━━━━━\u001b[0m\u001b[37m\u001b[0m \u001b[1m41s\u001b[0m 29ms/step - accuracy: 0.8068 - loss: 0.8501 - val_accuracy: 0.8527 - val_loss: 0.6994 - learning_rate: 1.2500e-04\n",
            "Epoch 35/50\n",
            "\u001b[1m1250/1250\u001b[0m \u001b[32m━━━━━━━━━━━━━━━━━━━━\u001b[0m\u001b[37m\u001b[0m \u001b[1m36s\u001b[0m 29ms/step - accuracy: 0.8071 - loss: 0.8483 - val_accuracy: 0.8304 - val_loss: 0.7805 - learning_rate: 1.2500e-04\n",
            "Epoch 36/50\n",
            "\u001b[1m1250/1250\u001b[0m \u001b[32m━━━━━━━━━━━━━━━━━━━━\u001b[0m\u001b[37m\u001b[0m \u001b[1m37s\u001b[0m 30ms/step - accuracy: 0.8142 - loss: 0.8334 - val_accuracy: 0.8444 - val_loss: 0.7255 - learning_rate: 1.2500e-04\n",
            "Epoch 37/50\n",
            "\u001b[1m1250/1250\u001b[0m \u001b[32m━━━━━━━━━━━━━━━━━━━━\u001b[0m\u001b[37m\u001b[0m \u001b[1m35s\u001b[0m 28ms/step - accuracy: 0.8105 - loss: 0.8326 - val_accuracy: 0.8395 - val_loss: 0.7353 - learning_rate: 1.2500e-04\n",
            "Epoch 38/50\n",
            "\u001b[1m1250/1250\u001b[0m \u001b[32m━━━━━━━━━━━━━━━━━━━━\u001b[0m\u001b[37m\u001b[0m \u001b[1m43s\u001b[0m 29ms/step - accuracy: 0.8147 - loss: 0.8133 - val_accuracy: 0.8631 - val_loss: 0.6665 - learning_rate: 1.2500e-04\n",
            "Epoch 39/50\n",
            "\u001b[1m1250/1250\u001b[0m \u001b[32m━━━━━━━━━━━━━━━━━━━━\u001b[0m\u001b[37m\u001b[0m \u001b[1m35s\u001b[0m 28ms/step - accuracy: 0.8098 - loss: 0.8230 - val_accuracy: 0.8444 - val_loss: 0.7241 - learning_rate: 1.2500e-04\n",
            "Epoch 40/50\n",
            "\u001b[1m1250/1250\u001b[0m \u001b[32m━━━━━━━━━━━━━━━━━━━━\u001b[0m\u001b[37m\u001b[0m \u001b[1m44s\u001b[0m 30ms/step - accuracy: 0.8248 - loss: 0.7808 - val_accuracy: 0.8660 - val_loss: 0.6577 - learning_rate: 6.2500e-05\n",
            "Epoch 41/50\n",
            "\u001b[1m1250/1250\u001b[0m \u001b[32m━━━━━━━━━━━━━━━━━━━━\u001b[0m\u001b[37m\u001b[0m \u001b[1m39s\u001b[0m 29ms/step - accuracy: 0.8278 - loss: 0.7584 - val_accuracy: 0.8683 - val_loss: 0.6318 - learning_rate: 6.2500e-05\n",
            "Epoch 42/50\n",
            "\u001b[1m1250/1250\u001b[0m \u001b[32m━━━━━━━━━━━━━━━━━━━━\u001b[0m\u001b[37m\u001b[0m \u001b[1m42s\u001b[0m 30ms/step - accuracy: 0.8277 - loss: 0.7538 - val_accuracy: 0.8556 - val_loss: 0.6757 - learning_rate: 6.2500e-05\n",
            "Epoch 43/50\n",
            "\u001b[1m1250/1250\u001b[0m \u001b[32m━━━━━━━━━━━━━━━━━━━━\u001b[0m\u001b[37m\u001b[0m \u001b[1m37s\u001b[0m 29ms/step - accuracy: 0.8346 - loss: 0.7359 - val_accuracy: 0.8728 - val_loss: 0.6102 - learning_rate: 6.2500e-05\n",
            "Epoch 44/50\n",
            "\u001b[1m1250/1250\u001b[0m \u001b[32m━━━━━━━━━━━━━━━━━━━━\u001b[0m\u001b[37m\u001b[0m \u001b[1m42s\u001b[0m 30ms/step - accuracy: 0.8300 - loss: 0.7360 - val_accuracy: 0.8554 - val_loss: 0.6676 - learning_rate: 6.2500e-05\n",
            "Epoch 45/50\n",
            "\u001b[1m1250/1250\u001b[0m \u001b[32m━━━━━━━━━━━━━━━━━━━━\u001b[0m\u001b[37m\u001b[0m \u001b[1m37s\u001b[0m 30ms/step - accuracy: 0.8298 - loss: 0.7258 - val_accuracy: 0.8762 - val_loss: 0.5930 - learning_rate: 6.2500e-05\n",
            "Epoch 46/50\n",
            "\u001b[1m1250/1250\u001b[0m \u001b[32m━━━━━━━━━━━━━━━━━━━━\u001b[0m\u001b[37m\u001b[0m \u001b[1m42s\u001b[0m 30ms/step - accuracy: 0.8381 - loss: 0.7114 - val_accuracy: 0.8739 - val_loss: 0.5998 - learning_rate: 6.2500e-05\n",
            "Epoch 47/50\n",
            "\u001b[1m1250/1250\u001b[0m \u001b[32m━━━━━━━━━━━━━━━━━━━━\u001b[0m\u001b[37m\u001b[0m \u001b[1m38s\u001b[0m 30ms/step - accuracy: 0.8322 - loss: 0.7155 - val_accuracy: 0.8754 - val_loss: 0.5899 - learning_rate: 6.2500e-05\n",
            "Epoch 48/50\n",
            "\u001b[1m1250/1250\u001b[0m \u001b[32m━━━━━━━━━━━━━━━━━━━━\u001b[0m\u001b[37m\u001b[0m \u001b[1m40s\u001b[0m 30ms/step - accuracy: 0.8339 - loss: 0.7092 - val_accuracy: 0.8705 - val_loss: 0.6041 - learning_rate: 6.2500e-05\n",
            "Epoch 49/50\n",
            "\u001b[1m1250/1250\u001b[0m \u001b[32m━━━━━━━━━━━━━━━━━━━━\u001b[0m\u001b[37m\u001b[0m \u001b[1m40s\u001b[0m 29ms/step - accuracy: 0.8421 - loss: 0.6882 - val_accuracy: 0.8565 - val_loss: 0.6387 - learning_rate: 6.2500e-05\n",
            "Epoch 50/50\n",
            "\u001b[1m1250/1250\u001b[0m \u001b[32m━━━━━━━━━━━━━━━━━━━━\u001b[0m\u001b[37m\u001b[0m \u001b[1m37s\u001b[0m 29ms/step - accuracy: 0.8420 - loss: 0.6755 - val_accuracy: 0.8793 - val_loss: 0.5703 - learning_rate: 3.1250e-05\n",
            "For model with l2 value ----->  0.0001\n",
            "Epoch 1/50\n",
            "\u001b[1m1250/1250\u001b[0m \u001b[32m━━━━━━━━━━━━━━━━━━━━\u001b[0m\u001b[37m\u001b[0m \u001b[1m53s\u001b[0m 31ms/step - accuracy: 0.2507 - loss: 2.8010 - val_accuracy: 0.3419 - val_loss: 2.3434 - learning_rate: 0.0010\n",
            "Epoch 2/50\n",
            "\u001b[1m1250/1250\u001b[0m \u001b[32m━━━━━━━━━━━━━━━━━━━━\u001b[0m\u001b[37m\u001b[0m \u001b[1m71s\u001b[0m 29ms/step - accuracy: 0.4340 - loss: 1.9369 - val_accuracy: 0.4681 - val_loss: 1.9478 - learning_rate: 0.0010\n",
            "Epoch 3/50\n",
            "\u001b[1m1250/1250\u001b[0m \u001b[32m━━━━━━━━━━━━━━━━━━━━\u001b[0m\u001b[37m\u001b[0m \u001b[1m42s\u001b[0m 30ms/step - accuracy: 0.5106 - loss: 1.7302 - val_accuracy: 0.5498 - val_loss: 1.6237 - learning_rate: 0.0010\n",
            "Epoch 4/50\n",
            "\u001b[1m1250/1250\u001b[0m \u001b[32m━━━━━━━━━━━━━━━━━━━━\u001b[0m\u001b[37m\u001b[0m \u001b[1m36s\u001b[0m 29ms/step - accuracy: 0.5667 - loss: 1.6148 - val_accuracy: 0.5451 - val_loss: 1.7684 - learning_rate: 0.0010\n",
            "Epoch 5/50\n",
            "\u001b[1m1250/1250\u001b[0m \u001b[32m━━━━━━━━━━━━━━━━━━━━\u001b[0m\u001b[37m\u001b[0m \u001b[1m41s\u001b[0m 29ms/step - accuracy: 0.6023 - loss: 1.5686 - val_accuracy: 0.6998 - val_loss: 1.3049 - learning_rate: 0.0010\n",
            "Epoch 6/50\n",
            "\u001b[1m1250/1250\u001b[0m \u001b[32m━━━━━━━━━━━━━━━━━━━━\u001b[0m\u001b[37m\u001b[0m \u001b[1m38s\u001b[0m 30ms/step - accuracy: 0.6173 - loss: 1.5536 - val_accuracy: 0.6245 - val_loss: 1.5836 - learning_rate: 0.0010\n",
            "Epoch 7/50\n",
            "\u001b[1m1250/1250\u001b[0m \u001b[32m━━━━━━━━━━━━━━━━━━━━\u001b[0m\u001b[37m\u001b[0m \u001b[1m40s\u001b[0m 29ms/step - accuracy: 0.6497 - loss: 1.4985 - val_accuracy: 0.6211 - val_loss: 1.6723 - learning_rate: 0.0010\n",
            "Epoch 8/50\n",
            "\u001b[1m1250/1250\u001b[0m \u001b[32m━━━━━━━━━━━━━━━━━━━━\u001b[0m\u001b[37m\u001b[0m \u001b[1m35s\u001b[0m 28ms/step - accuracy: 0.6552 - loss: 1.4868 - val_accuracy: 0.6065 - val_loss: 1.6936 - learning_rate: 0.0010\n",
            "Epoch 9/50\n",
            "\u001b[1m1250/1250\u001b[0m \u001b[32m━━━━━━━━━━━━━━━━━━━━\u001b[0m\u001b[37m\u001b[0m \u001b[1m43s\u001b[0m 29ms/step - accuracy: 0.6763 - loss: 1.4496 - val_accuracy: 0.6974 - val_loss: 1.3902 - learning_rate: 0.0010\n",
            "Epoch 10/50\n",
            "\u001b[1m1250/1250\u001b[0m \u001b[32m━━━━━━━━━━━━━━━━━━━━\u001b[0m\u001b[37m\u001b[0m \u001b[1m42s\u001b[0m 30ms/step - accuracy: 0.7152 - loss: 1.3208 - val_accuracy: 0.7794 - val_loss: 1.0734 - learning_rate: 5.0000e-04\n",
            "Epoch 11/50\n",
            "\u001b[1m1250/1250\u001b[0m \u001b[32m━━━━━━━━━━━━━━━━━━━━\u001b[0m\u001b[37m\u001b[0m \u001b[1m39s\u001b[0m 29ms/step - accuracy: 0.7329 - loss: 1.2071 - val_accuracy: 0.7883 - val_loss: 1.0265 - learning_rate: 5.0000e-04\n",
            "Epoch 12/50\n",
            "\u001b[1m1250/1250\u001b[0m \u001b[32m━━━━━━━━━━━━━━━━━━━━\u001b[0m\u001b[37m\u001b[0m \u001b[1m41s\u001b[0m 29ms/step - accuracy: 0.7448 - loss: 1.1540 - val_accuracy: 0.7561 - val_loss: 1.1203 - learning_rate: 5.0000e-04\n",
            "Epoch 13/50\n",
            "\u001b[1m1250/1250\u001b[0m \u001b[32m━━━━━━━━━━━━━━━━━━━━\u001b[0m\u001b[37m\u001b[0m \u001b[1m36s\u001b[0m 29ms/step - accuracy: 0.7498 - loss: 1.1218 - val_accuracy: 0.7563 - val_loss: 1.1216 - learning_rate: 5.0000e-04\n",
            "Epoch 14/50\n",
            "\u001b[1m1250/1250\u001b[0m \u001b[32m━━━━━━━━━━━━━━━━━━━━\u001b[0m\u001b[37m\u001b[0m \u001b[1m42s\u001b[0m 30ms/step - accuracy: 0.7526 - loss: 1.1035 - val_accuracy: 0.7763 - val_loss: 1.0421 - learning_rate: 5.0000e-04\n",
            "Epoch 15/50\n",
            "\u001b[1m1250/1250\u001b[0m \u001b[32m━━━━━━━━━━━━━━━━━━━━\u001b[0m\u001b[37m\u001b[0m \u001b[1m38s\u001b[0m 30ms/step - accuracy: 0.7601 - loss: 1.0873 - val_accuracy: 0.8023 - val_loss: 0.9501 - learning_rate: 5.0000e-04\n",
            "For model with l2 value ----->  1e-05\n",
            "Epoch 1/50\n",
            "\u001b[1m1250/1250\u001b[0m \u001b[32m━━━━━━━━━━━━━━━━━━━━\u001b[0m\u001b[37m\u001b[0m \u001b[1m56s\u001b[0m 33ms/step - accuracy: 0.2531 - loss: 2.4786 - val_accuracy: 0.4402 - val_loss: 1.6365 - learning_rate: 0.0010\n",
            "Epoch 2/50\n",
            "\u001b[1m1250/1250\u001b[0m \u001b[32m━━━━━━━━━━━━━━━━━━━━\u001b[0m\u001b[37m\u001b[0m \u001b[1m36s\u001b[0m 29ms/step - accuracy: 0.4263 - loss: 1.6393 - val_accuracy: 0.4961 - val_loss: 1.3736 - learning_rate: 0.0010\n",
            "Epoch 3/50\n",
            "\u001b[1m1250/1250\u001b[0m \u001b[32m━━━━━━━━━━━━━━━━━━━━\u001b[0m\u001b[37m\u001b[0m \u001b[1m43s\u001b[0m 31ms/step - accuracy: 0.5067 - loss: 1.4184 - val_accuracy: 0.6275 - val_loss: 1.1032 - learning_rate: 0.0010\n",
            "Epoch 4/50\n",
            "\u001b[1m1250/1250\u001b[0m \u001b[32m━━━━━━━━━━━━━━━━━━━━\u001b[0m\u001b[37m\u001b[0m \u001b[1m36s\u001b[0m 29ms/step - accuracy: 0.5673 - loss: 1.2923 - val_accuracy: 0.5719 - val_loss: 1.3006 - learning_rate: 0.0010\n",
            "Epoch 5/50\n",
            "\u001b[1m1250/1250\u001b[0m \u001b[32m━━━━━━━━━━━━━━━━━━━━\u001b[0m\u001b[37m\u001b[0m \u001b[1m36s\u001b[0m 29ms/step - accuracy: 0.6112 - loss: 1.1982 - val_accuracy: 0.6410 - val_loss: 1.1308 - learning_rate: 0.0010\n",
            "Epoch 6/50\n",
            "\u001b[1m1250/1250\u001b[0m \u001b[32m━━━━━━━━━━━━━━━━━━━━\u001b[0m\u001b[37m\u001b[0m \u001b[1m37s\u001b[0m 29ms/step - accuracy: 0.6327 - loss: 1.1551 - val_accuracy: 0.6561 - val_loss: 1.1231 - learning_rate: 0.0010\n",
            "Epoch 7/50\n",
            "\u001b[1m1250/1250\u001b[0m \u001b[32m━━━━━━━━━━━━━━━━━━━━\u001b[0m\u001b[37m\u001b[0m \u001b[1m43s\u001b[0m 31ms/step - accuracy: 0.6582 - loss: 1.1127 - val_accuracy: 0.7254 - val_loss: 0.9323 - learning_rate: 0.0010\n",
            "Epoch 8/50\n",
            "\u001b[1m1250/1250\u001b[0m \u001b[32m━━━━━━━━━━━━━━━━━━━━\u001b[0m\u001b[37m\u001b[0m \u001b[1m39s\u001b[0m 30ms/step - accuracy: 0.6832 - loss: 1.0691 - val_accuracy: 0.7145 - val_loss: 0.9995 - learning_rate: 0.0010\n",
            "Epoch 9/50\n",
            "\u001b[1m1250/1250\u001b[0m \u001b[32m━━━━━━━━━━━━━━━━━━━━\u001b[0m\u001b[37m\u001b[0m \u001b[1m36s\u001b[0m 29ms/step - accuracy: 0.6995 - loss: 1.0481 - val_accuracy: 0.7577 - val_loss: 0.8815 - learning_rate: 0.0010\n",
            "Epoch 10/50\n",
            "\u001b[1m1250/1250\u001b[0m \u001b[32m━━━━━━━━━━━━━━━━━━━━\u001b[0m\u001b[37m\u001b[0m \u001b[1m36s\u001b[0m 29ms/step - accuracy: 0.7338 - loss: 0.9645 - val_accuracy: 0.7644 - val_loss: 0.8762 - learning_rate: 5.0000e-04\n",
            "Epoch 11/50\n",
            "\u001b[1m1250/1250\u001b[0m \u001b[32m━━━━━━━━━━━━━━━━━━━━\u001b[0m\u001b[37m\u001b[0m \u001b[1m38s\u001b[0m 30ms/step - accuracy: 0.7456 - loss: 0.9241 - val_accuracy: 0.8059 - val_loss: 0.7445 - learning_rate: 5.0000e-04\n",
            "Epoch 12/50\n",
            "\u001b[1m1250/1250\u001b[0m \u001b[32m━━━━━━━━━━━━━━━━━━━━\u001b[0m\u001b[37m\u001b[0m \u001b[1m37s\u001b[0m 30ms/step - accuracy: 0.7568 - loss: 0.8919 - val_accuracy: 0.7894 - val_loss: 0.7936 - learning_rate: 5.0000e-04\n",
            "Epoch 13/50\n",
            "\u001b[1m1250/1250\u001b[0m \u001b[32m━━━━━━━━━━━━━━━━━━━━\u001b[0m\u001b[37m\u001b[0m \u001b[1m37s\u001b[0m 30ms/step - accuracy: 0.7631 - loss: 0.8621 - val_accuracy: 0.8176 - val_loss: 0.7061 - learning_rate: 5.0000e-04\n",
            "Epoch 14/50\n",
            "\u001b[1m1250/1250\u001b[0m \u001b[32m━━━━━━━━━━━━━━━━━━━━\u001b[0m\u001b[37m\u001b[0m \u001b[1m39s\u001b[0m 28ms/step - accuracy: 0.7648 - loss: 0.8570 - val_accuracy: 0.8031 - val_loss: 0.7416 - learning_rate: 5.0000e-04\n",
            "Epoch 15/50\n",
            "\u001b[1m1250/1250\u001b[0m \u001b[32m━━━━━━━━━━━━━━━━━━━━\u001b[0m\u001b[37m\u001b[0m \u001b[1m40s\u001b[0m 28ms/step - accuracy: 0.7706 - loss: 0.8398 - val_accuracy: 0.8277 - val_loss: 0.6870 - learning_rate: 5.0000e-04\n",
            "For model with l2 value ----->  1e-06\n",
            "Epoch 1/50\n",
            "\u001b[1m1250/1250\u001b[0m \u001b[32m━━━━━━━━━━━━━━━━━━━━\u001b[0m\u001b[37m\u001b[0m \u001b[1m56s\u001b[0m 34ms/step - accuracy: 0.2518 - loss: 2.4256 - val_accuracy: 0.3552 - val_loss: 1.8710 - learning_rate: 0.0010\n",
            "Epoch 2/50\n",
            "\u001b[1m1250/1250\u001b[0m \u001b[32m━━━━━━━━━━━━━━━━━━━━\u001b[0m\u001b[37m\u001b[0m \u001b[1m69s\u001b[0m 29ms/step - accuracy: 0.4337 - loss: 1.5551 - val_accuracy: 0.5511 - val_loss: 1.2459 - learning_rate: 0.0010\n",
            "Epoch 3/50\n",
            "\u001b[1m1250/1250\u001b[0m \u001b[32m━━━━━━━━━━━━━━━━━━━━\u001b[0m\u001b[37m\u001b[0m \u001b[1m42s\u001b[0m 30ms/step - accuracy: 0.5203 - loss: 1.3497 - val_accuracy: 0.5880 - val_loss: 1.2188 - learning_rate: 0.0010\n",
            "Epoch 4/50\n",
            "\u001b[1m1250/1250\u001b[0m \u001b[32m━━━━━━━━━━━━━━━━━━━━\u001b[0m\u001b[37m\u001b[0m \u001b[1m43s\u001b[0m 32ms/step - accuracy: 0.5755 - loss: 1.2143 - val_accuracy: 0.6374 - val_loss: 1.0640 - learning_rate: 0.0010\n",
            "Epoch 5/50\n",
            "\u001b[1m1250/1250\u001b[0m \u001b[32m━━━━━━━━━━━━━━━━━━━━\u001b[0m\u001b[37m\u001b[0m \u001b[1m38s\u001b[0m 30ms/step - accuracy: 0.6157 - loss: 1.1050 - val_accuracy: 0.6196 - val_loss: 1.1118 - learning_rate: 0.0010\n",
            "Epoch 6/50\n",
            "\u001b[1m1250/1250\u001b[0m \u001b[32m━━━━━━━━━━━━━━━━━━━━\u001b[0m\u001b[37m\u001b[0m \u001b[1m40s\u001b[0m 29ms/step - accuracy: 0.6386 - loss: 1.0495 - val_accuracy: 0.6806 - val_loss: 0.9393 - learning_rate: 0.0010\n",
            "Epoch 7/50\n",
            "\u001b[1m1250/1250\u001b[0m \u001b[32m━━━━━━━━━━━━━━━━━━━━\u001b[0m\u001b[37m\u001b[0m \u001b[1m38s\u001b[0m 30ms/step - accuracy: 0.6622 - loss: 0.9877 - val_accuracy: 0.7010 - val_loss: 0.9228 - learning_rate: 0.0010\n",
            "Epoch 8/50\n",
            "\u001b[1m1250/1250\u001b[0m \u001b[32m━━━━━━━━━━━━━━━━━━━━\u001b[0m\u001b[37m\u001b[0m \u001b[1m40s\u001b[0m 32ms/step - accuracy: 0.6843 - loss: 0.9315 - val_accuracy: 0.7444 - val_loss: 0.7667 - learning_rate: 0.0010\n",
            "Epoch 9/50\n",
            "\u001b[1m1250/1250\u001b[0m \u001b[32m━━━━━━━━━━━━━━━━━━━━\u001b[0m\u001b[37m\u001b[0m \u001b[1m38s\u001b[0m 29ms/step - accuracy: 0.6999 - loss: 0.9017 - val_accuracy: 0.7231 - val_loss: 0.8484 - learning_rate: 0.0010\n",
            "Epoch 10/50\n",
            "\u001b[1m1250/1250\u001b[0m \u001b[32m━━━━━━━━━━━━━━━━━━━━\u001b[0m\u001b[37m\u001b[0m \u001b[1m42s\u001b[0m 30ms/step - accuracy: 0.7307 - loss: 0.8152 - val_accuracy: 0.7954 - val_loss: 0.6174 - learning_rate: 5.0000e-04\n",
            "Epoch 11/50\n",
            "\u001b[1m1250/1250\u001b[0m \u001b[32m━━━━━━━━━━━━━━━━━━━━\u001b[0m\u001b[37m\u001b[0m \u001b[1m39s\u001b[0m 31ms/step - accuracy: 0.7469 - loss: 0.7761 - val_accuracy: 0.7941 - val_loss: 0.6238 - learning_rate: 5.0000e-04\n",
            "Epoch 12/50\n",
            "\u001b[1m1250/1250\u001b[0m \u001b[32m━━━━━━━━━━━━━━━━━━━━\u001b[0m\u001b[37m\u001b[0m \u001b[1m40s\u001b[0m 30ms/step - accuracy: 0.7543 - loss: 0.7491 - val_accuracy: 0.7938 - val_loss: 0.6435 - learning_rate: 5.0000e-04\n",
            "Epoch 13/50\n",
            "\u001b[1m1250/1250\u001b[0m \u001b[32m━━━━━━━━━━━━━━━━━━━━\u001b[0m\u001b[37m\u001b[0m \u001b[1m35s\u001b[0m 28ms/step - accuracy: 0.7604 - loss: 0.7288 - val_accuracy: 0.8047 - val_loss: 0.6004 - learning_rate: 5.0000e-04\n",
            "Epoch 14/50\n",
            "\u001b[1m1250/1250\u001b[0m \u001b[32m━━━━━━━━━━━━━━━━━━━━\u001b[0m\u001b[37m\u001b[0m \u001b[1m38s\u001b[0m 30ms/step - accuracy: 0.7724 - loss: 0.7001 - val_accuracy: 0.8157 - val_loss: 0.5667 - learning_rate: 5.0000e-04\n",
            "Epoch 15/50\n",
            "\u001b[1m1250/1250\u001b[0m \u001b[32m━━━━━━━━━━━━━━━━━━━━\u001b[0m\u001b[37m\u001b[0m \u001b[1m37s\u001b[0m 29ms/step - accuracy: 0.7767 - loss: 0.6875 - val_accuracy: 0.7863 - val_loss: 0.6696 - learning_rate: 5.0000e-04\n"
          ]
        },
        {
          "output_type": "display_data",
          "data": {
            "text/plain": [
              "<Figure size 1200x500 with 2 Axes>"
            ],
            "image/png": "[encoded data removed]"
          },
          "metadata": {}
        },
        {
          "output_type": "stream",
          "name": "stdout",
          "text": [
            "Best L2 Value: 0.001\n",
            "Best Validation Accuracy: 0.8793\n",
            "\u001b[1m313/313\u001b[0m \u001b[32m━━━━━━━━━━━━━━━━━━━━\u001b[0m\u001b[37m\u001b[0m \u001b[1m1s\u001b[0m 4ms/step - accuracy: 0.8773 - loss: 0.5766\n",
            "Best L2 Value: 0.001\n",
            "Test Accuracy: 0.876800000667572\n",
            "CPU times: user 1h 16min 15s, sys: 1min 21s, total: 1h 17min 37s\n",
            "Wall time: 1h 4min 18s\n"
          ]
        }
      ]
    }
  ]
}